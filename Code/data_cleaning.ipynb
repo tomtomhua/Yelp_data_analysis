{
  "nbformat": 4,
  "nbformat_minor": 0,
  "metadata": {
    "colab": {
      "name": "data_cleaning.ipynb",
      "provenance": [],
      "collapsed_sections": [],
      "toc_visible": true
    },
    "kernelspec": {
      "name": "python3",
      "display_name": "Python 3"
    }
  },
  "cells": [
    {
      "cell_type": "markdown",
      "metadata": {
        "id": "Q2gVileaXyhC",
        "colab_type": "text"
      },
      "source": [
        "#Yelp - Data Cleaning"
      ]
    },
    {
      "cell_type": "code",
      "metadata": {
        "id": "2Mx1FYNFpC5A",
        "colab_type": "code",
        "colab": {}
      },
      "source": [
        "import numpy as np\n",
        "import pandas as pd\n",
        "import seaborn as sns\n",
        "import matplotlib.pyplot as plt\n",
        "\n",
        "import ast\n",
        "import operator"
      ],
      "execution_count": 0,
      "outputs": []
    },
    {
      "cell_type": "code",
      "metadata": {
        "id": "-1lxDKZ3pF7K",
        "colab_type": "code",
        "colab": {}
      },
      "source": [
        "business = pd.read_csv('business.csv')"
      ],
      "execution_count": 0,
      "outputs": []
    },
    {
      "cell_type": "code",
      "metadata": {
        "id": "BcDBuvpOpMa5",
        "colab_type": "code",
        "outputId": "04987859-e502-40bd-99bb-e4d0e063a8ac",
        "colab": {
          "base_uri": "https://localhost:8080/",
          "height": 530
        }
      },
      "source": [
        "business.head()"
      ],
      "execution_count": 0,
      "outputs": [
        {
          "output_type": "execute_result",
          "data": {
            "text/html": [
              "<div>\n",
              "<style scoped>\n",
              "    .dataframe tbody tr th:only-of-type {\n",
              "        vertical-align: middle;\n",
              "    }\n",
              "\n",
              "    .dataframe tbody tr th {\n",
              "        vertical-align: top;\n",
              "    }\n",
              "\n",
              "    .dataframe thead th {\n",
              "        text-align: right;\n",
              "    }\n",
              "</style>\n",
              "<table border=\"1\" class=\"dataframe\">\n",
              "  <thead>\n",
              "    <tr style=\"text-align: right;\">\n",
              "      <th></th>\n",
              "      <th>address</th>\n",
              "      <th>attributes</th>\n",
              "      <th>business_id</th>\n",
              "      <th>categories</th>\n",
              "      <th>city</th>\n",
              "      <th>hours</th>\n",
              "      <th>is_open</th>\n",
              "      <th>latitude</th>\n",
              "      <th>longitude</th>\n",
              "      <th>name</th>\n",
              "      <th>postal_code</th>\n",
              "      <th>review_count</th>\n",
              "      <th>stars</th>\n",
              "      <th>state</th>\n",
              "    </tr>\n",
              "  </thead>\n",
              "  <tbody>\n",
              "    <tr>\n",
              "      <th>0</th>\n",
              "      <td>2818 E Camino Acequia Drive</td>\n",
              "      <td>{'GoodForKids': 'False'}</td>\n",
              "      <td>1SWheh84yJXfytovILXOAQ</td>\n",
              "      <td>Golf, Active Life</td>\n",
              "      <td>Phoenix</td>\n",
              "      <td>NaN</td>\n",
              "      <td>0</td>\n",
              "      <td>33.522143</td>\n",
              "      <td>-112.018481</td>\n",
              "      <td>Arizona Biltmore Golf Club</td>\n",
              "      <td>85016</td>\n",
              "      <td>5</td>\n",
              "      <td>3.0</td>\n",
              "      <td>AZ</td>\n",
              "    </tr>\n",
              "    <tr>\n",
              "      <th>1</th>\n",
              "      <td>30 Eglinton Avenue W</td>\n",
              "      <td>{'RestaurantsReservations': 'True', 'GoodForMe...</td>\n",
              "      <td>QXAEGFB4oINsVuTFxEYKFQ</td>\n",
              "      <td>Specialty Food, Restaurants, Dim Sum, Imported...</td>\n",
              "      <td>Mississauga</td>\n",
              "      <td>{'Monday': '9:0-0:0', 'Tuesday': '9:0-0:0', 'W...</td>\n",
              "      <td>1</td>\n",
              "      <td>43.605499</td>\n",
              "      <td>-79.652289</td>\n",
              "      <td>Emerald Chinese Restaurant</td>\n",
              "      <td>L5R 3E7</td>\n",
              "      <td>128</td>\n",
              "      <td>2.5</td>\n",
              "      <td>ON</td>\n",
              "    </tr>\n",
              "    <tr>\n",
              "      <th>2</th>\n",
              "      <td>10110 Johnston Rd, Ste 15</td>\n",
              "      <td>{'GoodForKids': 'True', 'NoiseLevel': \"u'avera...</td>\n",
              "      <td>gnKjwL_1w79qoiV3IC_xQQ</td>\n",
              "      <td>Sushi Bars, Restaurants, Japanese</td>\n",
              "      <td>Charlotte</td>\n",
              "      <td>{'Monday': '17:30-21:30', 'Wednesday': '17:30-...</td>\n",
              "      <td>1</td>\n",
              "      <td>35.092564</td>\n",
              "      <td>-80.859132</td>\n",
              "      <td>Musashi Japanese Restaurant</td>\n",
              "      <td>28210</td>\n",
              "      <td>170</td>\n",
              "      <td>4.0</td>\n",
              "      <td>NC</td>\n",
              "    </tr>\n",
              "    <tr>\n",
              "      <th>3</th>\n",
              "      <td>15655 W Roosevelt St, Ste 237</td>\n",
              "      <td>NaN</td>\n",
              "      <td>xvX2CttrVhyG2z1dFg_0xw</td>\n",
              "      <td>Insurance, Financial Services</td>\n",
              "      <td>Goodyear</td>\n",
              "      <td>{'Monday': '8:0-17:0', 'Tuesday': '8:0-17:0', ...</td>\n",
              "      <td>1</td>\n",
              "      <td>33.455613</td>\n",
              "      <td>-112.395596</td>\n",
              "      <td>Farmers Insurance - Paul Lorenz</td>\n",
              "      <td>85338</td>\n",
              "      <td>3</td>\n",
              "      <td>5.0</td>\n",
              "      <td>AZ</td>\n",
              "    </tr>\n",
              "    <tr>\n",
              "      <th>4</th>\n",
              "      <td>4209 Stuart Andrew Blvd, Ste F</td>\n",
              "      <td>{'BusinessAcceptsBitcoin': 'False', 'ByAppoint...</td>\n",
              "      <td>HhyxOkGAM07SRYtlQ4wMFQ</td>\n",
              "      <td>Plumbing, Shopping, Local Services, Home Servi...</td>\n",
              "      <td>Charlotte</td>\n",
              "      <td>{'Monday': '7:0-23:0', 'Tuesday': '7:0-23:0', ...</td>\n",
              "      <td>1</td>\n",
              "      <td>35.190012</td>\n",
              "      <td>-80.887223</td>\n",
              "      <td>Queen City Plumbing</td>\n",
              "      <td>28217</td>\n",
              "      <td>4</td>\n",
              "      <td>4.0</td>\n",
              "      <td>NC</td>\n",
              "    </tr>\n",
              "  </tbody>\n",
              "</table>\n",
              "</div>"
            ],
            "text/plain": [
              "                          address  ... state\n",
              "0     2818 E Camino Acequia Drive  ...    AZ\n",
              "1            30 Eglinton Avenue W  ...    ON\n",
              "2       10110 Johnston Rd, Ste 15  ...    NC\n",
              "3   15655 W Roosevelt St, Ste 237  ...    AZ\n",
              "4  4209 Stuart Andrew Blvd, Ste F  ...    NC\n",
              "\n",
              "[5 rows x 14 columns]"
            ]
          },
          "metadata": {
            "tags": []
          },
          "execution_count": 4
        }
      ]
    },
    {
      "cell_type": "markdown",
      "metadata": {
        "id": "PVsqrRgqWLB7",
        "colab_type": "text"
      },
      "source": [
        "I will remove the address column since we get the latitude and longitude. \n",
        "\n",
        "We can see that the attributes and hours were saved as dicstionary while categories was seperated by comma."
      ]
    },
    {
      "cell_type": "code",
      "metadata": {
        "id": "FhrITsdZVMeH",
        "colab_type": "code",
        "colab": {}
      },
      "source": [
        "business.drop(columns=\"address\", inplace=True)"
      ],
      "execution_count": 0,
      "outputs": []
    },
    {
      "cell_type": "code",
      "metadata": {
        "id": "JfcD7ezcIZDL",
        "colab_type": "code",
        "outputId": "67bc0aa4-ac75-48f5-8b50-8e7ba372999b",
        "colab": {
          "base_uri": "https://localhost:8080/",
          "height": 255
        }
      },
      "source": [
        "business.dtypes"
      ],
      "execution_count": 0,
      "outputs": [
        {
          "output_type": "execute_result",
          "data": {
            "text/plain": [
              "attributes       object\n",
              "business_id      object\n",
              "categories       object\n",
              "city             object\n",
              "hours            object\n",
              "is_open           int64\n",
              "latitude        float64\n",
              "longitude       float64\n",
              "name             object\n",
              "postal_code      object\n",
              "review_count      int64\n",
              "stars           float64\n",
              "state            object\n",
              "dtype: object"
            ]
          },
          "metadata": {
            "tags": []
          },
          "execution_count": 6
        }
      ]
    },
    {
      "cell_type": "code",
      "metadata": {
        "id": "_rBJ_Z4odjLZ",
        "colab_type": "code",
        "outputId": "80b5e681-40ca-41c5-d04d-42fadd0040f8",
        "colab": {
          "base_uri": "https://localhost:8080/",
          "height": 34
        }
      },
      "source": [
        "business.shape"
      ],
      "execution_count": 0,
      "outputs": [
        {
          "output_type": "execute_result",
          "data": {
            "text/plain": [
              "(192609, 13)"
            ]
          },
          "metadata": {
            "tags": []
          },
          "execution_count": 7
        }
      ]
    },
    {
      "cell_type": "markdown",
      "metadata": {
        "id": "fBoeuVUga2bh",
        "colab_type": "text"
      },
      "source": [
        "### Missing Value\n",
        "\n"
      ]
    },
    {
      "cell_type": "code",
      "metadata": {
        "id": "fL5R9AYvbmsW",
        "colab_type": "code",
        "outputId": "87b7cc97-8936-4cec-eed4-dc948824cf97",
        "colab": {
          "base_uri": "https://localhost:8080/",
          "height": 255
        }
      },
      "source": [
        "business.isnull().sum()"
      ],
      "execution_count": 0,
      "outputs": [
        {
          "output_type": "execute_result",
          "data": {
            "text/plain": [
              "attributes      28836\n",
              "business_id         0\n",
              "categories        482\n",
              "city                1\n",
              "hours           44830\n",
              "is_open             0\n",
              "latitude            0\n",
              "longitude           0\n",
              "name                0\n",
              "postal_code       659\n",
              "review_count        0\n",
              "stars               0\n",
              "state               0\n",
              "dtype: int64"
            ]
          },
          "metadata": {
            "tags": []
          },
          "execution_count": 8
        }
      ]
    },
    {
      "cell_type": "code",
      "metadata": {
        "id": "tRTF5ivtcAu-",
        "colab_type": "code",
        "colab": {}
      },
      "source": [
        "business = business[pd.notna(business.categories)]"
      ],
      "execution_count": 0,
      "outputs": []
    },
    {
      "cell_type": "code",
      "metadata": {
        "id": "vl8TF6wMc2Sz",
        "colab_type": "code",
        "outputId": "51f05766-fdf2-4fd3-b644-fe8facc6f632",
        "colab": {
          "base_uri": "https://localhost:8080/",
          "height": 255
        }
      },
      "source": [
        "business.isnull().sum()"
      ],
      "execution_count": 0,
      "outputs": [
        {
          "output_type": "execute_result",
          "data": {
            "text/plain": [
              "attributes      28354\n",
              "business_id         0\n",
              "categories          0\n",
              "city                1\n",
              "hours           44349\n",
              "is_open             0\n",
              "latitude            0\n",
              "longitude           0\n",
              "name                0\n",
              "postal_code       659\n",
              "review_count        0\n",
              "stars               0\n",
              "state               0\n",
              "dtype: int64"
            ]
          },
          "metadata": {
            "tags": []
          },
          "execution_count": 10
        }
      ]
    },
    {
      "cell_type": "markdown",
      "metadata": {
        "id": "m8m1PaPMc396",
        "colab_type": "text"
      },
      "source": [
        "We removed null values from the categories. Later on, check the null value in city."
      ]
    },
    {
      "cell_type": "code",
      "metadata": {
        "id": "K9JHHJuDePyF",
        "colab_type": "code",
        "outputId": "299284b1-07d9-431f-b82d-331916bdd779",
        "colab": {
          "base_uri": "https://localhost:8080/",
          "height": 151
        }
      },
      "source": [
        "business[business['city'].isnull()]"
      ],
      "execution_count": 0,
      "outputs": [
        {
          "output_type": "execute_result",
          "data": {
            "text/html": [
              "<div>\n",
              "<style scoped>\n",
              "    .dataframe tbody tr th:only-of-type {\n",
              "        vertical-align: middle;\n",
              "    }\n",
              "\n",
              "    .dataframe tbody tr th {\n",
              "        vertical-align: top;\n",
              "    }\n",
              "\n",
              "    .dataframe thead th {\n",
              "        text-align: right;\n",
              "    }\n",
              "</style>\n",
              "<table border=\"1\" class=\"dataframe\">\n",
              "  <thead>\n",
              "    <tr style=\"text-align: right;\">\n",
              "      <th></th>\n",
              "      <th>attributes</th>\n",
              "      <th>business_id</th>\n",
              "      <th>categories</th>\n",
              "      <th>city</th>\n",
              "      <th>hours</th>\n",
              "      <th>is_open</th>\n",
              "      <th>latitude</th>\n",
              "      <th>longitude</th>\n",
              "      <th>name</th>\n",
              "      <th>postal_code</th>\n",
              "      <th>review_count</th>\n",
              "      <th>stars</th>\n",
              "      <th>state</th>\n",
              "    </tr>\n",
              "  </thead>\n",
              "  <tbody>\n",
              "    <tr>\n",
              "      <th>34070</th>\n",
              "      <td>{'BusinessParking': \"{'garage': False, 'street...</td>\n",
              "      <td>WpC53SqwoCY5AuYIFr_1eA</td>\n",
              "      <td>Soccer, Active Life</td>\n",
              "      <td>NaN</td>\n",
              "      <td>NaN</td>\n",
              "      <td>1</td>\n",
              "      <td>33.338097</td>\n",
              "      <td>-111.677975</td>\n",
              "      <td>NSFC Strikers Soccer Complex</td>\n",
              "      <td>NaN</td>\n",
              "      <td>3</td>\n",
              "      <td>2.5</td>\n",
              "      <td>AZ</td>\n",
              "    </tr>\n",
              "  </tbody>\n",
              "</table>\n",
              "</div>"
            ],
            "text/plain": [
              "                                              attributes  ... state\n",
              "34070  {'BusinessParking': \"{'garage': False, 'street...  ...    AZ\n",
              "\n",
              "[1 rows x 13 columns]"
            ]
          },
          "metadata": {
            "tags": []
          },
          "execution_count": 11
        }
      ]
    },
    {
      "cell_type": "markdown",
      "metadata": {
        "id": "MI3RBxfGeU0n",
        "colab_type": "text"
      },
      "source": [
        "I googled it and found it is a soccer club in Mesa, AZ. But since we are not intereset in soccer club, we can just drop it."
      ]
    },
    {
      "cell_type": "code",
      "metadata": {
        "id": "lpFuFumBe6SL",
        "colab_type": "code",
        "colab": {}
      },
      "source": [
        "business = business[pd.notna(business.city)]"
      ],
      "execution_count": 0,
      "outputs": []
    },
    {
      "cell_type": "code",
      "metadata": {
        "id": "X3pCo6h5fIrc",
        "colab_type": "code",
        "outputId": "9054a8ae-15ac-424c-8af1-db46c811cfd1",
        "colab": {
          "base_uri": "https://localhost:8080/",
          "height": 255
        }
      },
      "source": [
        "business.isnull().sum()"
      ],
      "execution_count": 0,
      "outputs": [
        {
          "output_type": "execute_result",
          "data": {
            "text/plain": [
              "attributes      28354\n",
              "business_id         0\n",
              "categories          0\n",
              "city                0\n",
              "hours           44348\n",
              "is_open             0\n",
              "latitude            0\n",
              "longitude           0\n",
              "name                0\n",
              "postal_code       658\n",
              "review_count        0\n",
              "stars               0\n",
              "state               0\n",
              "dtype: int64"
            ]
          },
          "metadata": {
            "tags": []
          },
          "execution_count": 13
        }
      ]
    },
    {
      "cell_type": "markdown",
      "metadata": {
        "id": "HfHgSMLKumg5",
        "colab_type": "text"
      },
      "source": [
        "We are only interesting in business in the US."
      ]
    },
    {
      "cell_type": "code",
      "metadata": {
        "id": "KhdA-cXbf0SH",
        "colab_type": "code",
        "colab": {}
      },
      "source": [
        "american_states = ['AL', 'AK', 'AZ', 'AR', 'CA', 'CO', 'CT', 'DE', 'FL', 'GA',\\\n",
        "                   'HI', 'ID', 'IL', 'IN', 'IA', 'KS', 'KY', 'LA', 'ME', 'MD',\\\n",
        "                   'MA', 'MI', 'MN', 'MS', 'MO', 'MT', 'NE', 'NV', 'NH', 'NJ',\\\n",
        "                   'NM', 'NY', 'NC', 'ND', 'OH', 'OK', 'OR', 'PA', 'RI', 'SC',\\\n",
        "                   'SD', 'TN', 'TX', 'UT', 'VT', 'VA', 'WA', 'WV', 'WI', 'WY'] \n",
        "                  "
      ],
      "execution_count": 0,
      "outputs": []
    },
    {
      "cell_type": "code",
      "metadata": {
        "id": "DYih044hkXTI",
        "colab_type": "code",
        "colab": {}
      },
      "source": [
        "business = business[business.state.isin(american_states)]"
      ],
      "execution_count": 0,
      "outputs": []
    },
    {
      "cell_type": "code",
      "metadata": {
        "id": "HZ7Xn1PvljuH",
        "colab_type": "code",
        "outputId": "d222e2b2-b843-4b91-c6d0-ad52cc5f07b9",
        "colab": {
          "base_uri": "https://localhost:8080/",
          "height": 34
        }
      },
      "source": [
        "business.shape"
      ],
      "execution_count": 0,
      "outputs": [
        {
          "output_type": "execute_result",
          "data": {
            "text/plain": [
              "(141585, 13)"
            ]
          },
          "metadata": {
            "tags": []
          },
          "execution_count": 16
        }
      ]
    },
    {
      "cell_type": "markdown",
      "metadata": {
        "id": "TxlQUPz5vF-_",
        "colab_type": "text"
      },
      "source": [
        "Our data only left 141585 observations after we removed the states besides America.\n",
        "\n",
        "We can use postal code to double-check(postal code in America is XXXXX.)"
      ]
    },
    {
      "cell_type": "code",
      "metadata": {
        "id": "bff7ClLPmCq-",
        "colab_type": "code",
        "outputId": "5f5733c3-cfe6-479e-97c9-559a3a508f1e",
        "colab": {
          "base_uri": "https://localhost:8080/",
          "height": 1000
        }
      },
      "source": [
        "business[pd.notna(business.postal_code)][business.postal_code.map(str).apply(len) != 5 ]"
      ],
      "execution_count": 0,
      "outputs": [
        {
          "output_type": "stream",
          "text": [
            "/usr/local/lib/python3.6/dist-packages/ipykernel_launcher.py:1: UserWarning: Boolean Series key will be reindexed to match DataFrame index.\n",
            "  \"\"\"Entry point for launching an IPython kernel.\n"
          ],
          "name": "stderr"
        },
        {
          "output_type": "execute_result",
          "data": {
            "text/html": [
              "<div>\n",
              "<style scoped>\n",
              "    .dataframe tbody tr th:only-of-type {\n",
              "        vertical-align: middle;\n",
              "    }\n",
              "\n",
              "    .dataframe tbody tr th {\n",
              "        vertical-align: top;\n",
              "    }\n",
              "\n",
              "    .dataframe thead th {\n",
              "        text-align: right;\n",
              "    }\n",
              "</style>\n",
              "<table border=\"1\" class=\"dataframe\">\n",
              "  <thead>\n",
              "    <tr style=\"text-align: right;\">\n",
              "      <th></th>\n",
              "      <th>attributes</th>\n",
              "      <th>business_id</th>\n",
              "      <th>categories</th>\n",
              "      <th>city</th>\n",
              "      <th>hours</th>\n",
              "      <th>is_open</th>\n",
              "      <th>latitude</th>\n",
              "      <th>longitude</th>\n",
              "      <th>name</th>\n",
              "      <th>postal_code</th>\n",
              "      <th>review_count</th>\n",
              "      <th>stars</th>\n",
              "      <th>state</th>\n",
              "    </tr>\n",
              "  </thead>\n",
              "  <tbody>\n",
              "    <tr>\n",
              "      <th>48182</th>\n",
              "      <td>{'ByAppointmentOnly': 'False'}</td>\n",
              "      <td>pL6TxdAOeYICTfbc8g2ZRA</td>\n",
              "      <td>Property Management, Real Estate, Home Services</td>\n",
              "      <td>Las Vegas</td>\n",
              "      <td>NaN</td>\n",
              "      <td>1</td>\n",
              "      <td>36.081028</td>\n",
              "      <td>-115.241900</td>\n",
              "      <td>Pinnacle Realty Management</td>\n",
              "      <td>891118</td>\n",
              "      <td>8</td>\n",
              "      <td>1.0</td>\n",
              "      <td>NV</td>\n",
              "    </tr>\n",
              "    <tr>\n",
              "      <th>83767</th>\n",
              "      <td>{'BusinessAcceptsCreditCards': 'True', 'Restau...</td>\n",
              "      <td>tJRDll5yqpZwehenzE2cSg</td>\n",
              "      <td>Hotels, Hotels &amp; Travel, Bed &amp; Breakfast, Even...</td>\n",
              "      <td>Alburg</td>\n",
              "      <td>{'Monday': '17:0-21:0', 'Tuesday': '17:0-21:0'...</td>\n",
              "      <td>1</td>\n",
              "      <td>44.953815</td>\n",
              "      <td>-73.270500</td>\n",
              "      <td>Ransom Bay Inn B &amp; B</td>\n",
              "      <td>5440</td>\n",
              "      <td>5</td>\n",
              "      <td>5.0</td>\n",
              "      <td>VT</td>\n",
              "    </tr>\n",
              "    <tr>\n",
              "      <th>84473</th>\n",
              "      <td>{'BusinessAcceptsCreditCards': 'False'}</td>\n",
              "      <td>MErXuVEC2gI_u-W_hm2STw</td>\n",
              "      <td>Bikes, Bike Repair/Maintenance, Shopping, Bike...</td>\n",
              "      <td>Mesa</td>\n",
              "      <td>NaN</td>\n",
              "      <td>1</td>\n",
              "      <td>33.404513</td>\n",
              "      <td>-111.648627</td>\n",
              "      <td>Christopher Metcalfe Creations</td>\n",
              "      <td>2645</td>\n",
              "      <td>4</td>\n",
              "      <td>5.0</td>\n",
              "      <td>AZ</td>\n",
              "    </tr>\n",
              "    <tr>\n",
              "      <th>85200</th>\n",
              "      <td>{'RestaurantsPriceRange2': '3', 'BusinessAccep...</td>\n",
              "      <td>9WHm5xU_3EXai-NWrmWRZQ</td>\n",
              "      <td>Women's Clothing, Shopping, Accessories, Fashion</td>\n",
              "      <td>Litchfield</td>\n",
              "      <td>NaN</td>\n",
              "      <td>1</td>\n",
              "      <td>41.567551</td>\n",
              "      <td>-81.505163</td>\n",
              "      <td>Hayseed</td>\n",
              "      <td>6759</td>\n",
              "      <td>3</td>\n",
              "      <td>1.5</td>\n",
              "      <td>CT</td>\n",
              "    </tr>\n",
              "    <tr>\n",
              "      <th>97674</th>\n",
              "      <td>{'ByAppointmentOnly': 'False'}</td>\n",
              "      <td>_WbkQha0xqf2DnYumHAaqg</td>\n",
              "      <td>Tree Services, Home Services</td>\n",
              "      <td>Alburgh</td>\n",
              "      <td>NaN</td>\n",
              "      <td>1</td>\n",
              "      <td>44.974354</td>\n",
              "      <td>-73.300597</td>\n",
              "      <td>Island Tree Service</td>\n",
              "      <td>5440</td>\n",
              "      <td>3</td>\n",
              "      <td>3.5</td>\n",
              "      <td>VT</td>\n",
              "    </tr>\n",
              "    <tr>\n",
              "      <th>160259</th>\n",
              "      <td>{'BusinessAcceptsCreditCards': 'True'}</td>\n",
              "      <td>6kSvyueHgjLragjJWoAaJg</td>\n",
              "      <td>Automotive, Oil Change Stations, Auto Parts &amp; ...</td>\n",
              "      <td>Glendale</td>\n",
              "      <td>{'Monday': '0:0-0:0', 'Tuesday': '0:0-0:0', 'W...</td>\n",
              "      <td>1</td>\n",
              "      <td>33.664516</td>\n",
              "      <td>-112.202635</td>\n",
              "      <td>Go2lube</td>\n",
              "      <td>6897</td>\n",
              "      <td>4</td>\n",
              "      <td>5.0</td>\n",
              "      <td>CT</td>\n",
              "    </tr>\n",
              "    <tr>\n",
              "      <th>160820</th>\n",
              "      <td>NaN</td>\n",
              "      <td>KhxKu4hXR4YOcpAKI7p2vQ</td>\n",
              "      <td>Tickets, Shopping</td>\n",
              "      <td>Las Vegas</td>\n",
              "      <td>NaN</td>\n",
              "      <td>1</td>\n",
              "      <td>36.166228</td>\n",
              "      <td>-115.192580</td>\n",
              "      <td>Tix 4 Tonight</td>\n",
              "      <td>6280</td>\n",
              "      <td>3</td>\n",
              "      <td>5.0</td>\n",
              "      <td>NV</td>\n",
              "    </tr>\n",
              "    <tr>\n",
              "      <th>164311</th>\n",
              "      <td>NaN</td>\n",
              "      <td>U1ln0q5CwPydtPyoIeheUg</td>\n",
              "      <td>Pets, Pet Services, Dog Walkers, Pet Sitting</td>\n",
              "      <td>Union</td>\n",
              "      <td>{'Monday': '0:0-0:0', 'Tuesday': '0:0-0:0', 'W...</td>\n",
              "      <td>1</td>\n",
              "      <td>36.016102</td>\n",
              "      <td>-115.058461</td>\n",
              "      <td>Pet Sitting by Ines</td>\n",
              "      <td>7083</td>\n",
              "      <td>8</td>\n",
              "      <td>5.0</td>\n",
              "      <td>NJ</td>\n",
              "    </tr>\n",
              "    <tr>\n",
              "      <th>172350</th>\n",
              "      <td>NaN</td>\n",
              "      <td>dRm2_YXSeGCqR2x92DrATA</td>\n",
              "      <td>Web Design, Professional Services, Graphic Des...</td>\n",
              "      <td>Charlotte</td>\n",
              "      <td>{'Monday': '8:30-17:0', 'Tuesday': '8:30-17:0'...</td>\n",
              "      <td>1</td>\n",
              "      <td>35.153197</td>\n",
              "      <td>-80.838218</td>\n",
              "      <td>ClickCom</td>\n",
              "      <td>282010</td>\n",
              "      <td>3</td>\n",
              "      <td>2.5</td>\n",
              "      <td>NC</td>\n",
              "    </tr>\n",
              "    <tr>\n",
              "      <th>177244</th>\n",
              "      <td>{'RestaurantsPriceRange2': '2', 'RestaurantsAt...</td>\n",
              "      <td>wfe31gLa1qtAgiCVI0cH2g</td>\n",
              "      <td>Restaurants, Italian</td>\n",
              "      <td>Toronto</td>\n",
              "      <td>{'Monday': '0:0-0:0', 'Tuesday': '11:0-22:0', ...</td>\n",
              "      <td>1</td>\n",
              "      <td>43.625879</td>\n",
              "      <td>-79.504026</td>\n",
              "      <td>Pastucci's</td>\n",
              "      <td>M8Z 1N1</td>\n",
              "      <td>9</td>\n",
              "      <td>4.0</td>\n",
              "      <td>OH</td>\n",
              "    </tr>\n",
              "    <tr>\n",
              "      <th>185798</th>\n",
              "      <td>NaN</td>\n",
              "      <td>sSlMkHBYFOMYbrYG5Jg0Bw</td>\n",
              "      <td>Food, Restaurants, Pretzels, Specialty Food, F...</td>\n",
              "      <td>Calgary</td>\n",
              "      <td>{'Monday': '9:30-21:0', 'Tuesday': '9:30-21:0'...</td>\n",
              "      <td>1</td>\n",
              "      <td>51.085352</td>\n",
              "      <td>-114.153712</td>\n",
              "      <td>Mr Pretzels</td>\n",
              "      <td>T3A 5C4</td>\n",
              "      <td>3</td>\n",
              "      <td>3.5</td>\n",
              "      <td>AL</td>\n",
              "    </tr>\n",
              "    <tr>\n",
              "      <th>190459</th>\n",
              "      <td>{'BikeParking': 'False', 'RestaurantsPriceRang...</td>\n",
              "      <td>Q75WJODIMDC7Y8XRYLDbtQ</td>\n",
              "      <td>Fashion, Men's Clothing, Women's Clothing, Sho...</td>\n",
              "      <td>Farmington</td>\n",
              "      <td>{'Monday': '10:0-21:0', 'Tuesday': '10:0-21:0'...</td>\n",
              "      <td>1</td>\n",
              "      <td>36.051571</td>\n",
              "      <td>-115.169712</td>\n",
              "      <td>Brooks Brothers</td>\n",
              "      <td>6032</td>\n",
              "      <td>9</td>\n",
              "      <td>4.0</td>\n",
              "      <td>CT</td>\n",
              "    </tr>\n",
              "  </tbody>\n",
              "</table>\n",
              "</div>"
            ],
            "text/plain": [
              "                                               attributes  ... state\n",
              "48182                      {'ByAppointmentOnly': 'False'}  ...    NV\n",
              "83767   {'BusinessAcceptsCreditCards': 'True', 'Restau...  ...    VT\n",
              "84473             {'BusinessAcceptsCreditCards': 'False'}  ...    AZ\n",
              "85200   {'RestaurantsPriceRange2': '3', 'BusinessAccep...  ...    CT\n",
              "97674                      {'ByAppointmentOnly': 'False'}  ...    VT\n",
              "160259             {'BusinessAcceptsCreditCards': 'True'}  ...    CT\n",
              "160820                                                NaN  ...    NV\n",
              "164311                                                NaN  ...    NJ\n",
              "172350                                                NaN  ...    NC\n",
              "177244  {'RestaurantsPriceRange2': '2', 'RestaurantsAt...  ...    OH\n",
              "185798                                                NaN  ...    AL\n",
              "190459  {'BikeParking': 'False', 'RestaurantsPriceRang...  ...    CT\n",
              "\n",
              "[12 rows x 13 columns]"
            ]
          },
          "metadata": {
            "tags": []
          },
          "execution_count": 17
        }
      ]
    },
    {
      "cell_type": "markdown",
      "metadata": {
        "id": "Ic3iOeqFrwcm",
        "colab_type": "text"
      },
      "source": [
        "We can see that Toronto and Calgary are not in America so drop them."
      ]
    },
    {
      "cell_type": "code",
      "metadata": {
        "id": "RB7DX8nxmXWS",
        "colab_type": "code",
        "colab": {}
      },
      "source": [
        "business = business.drop([177244, 185798])"
      ],
      "execution_count": 0,
      "outputs": []
    },
    {
      "cell_type": "markdown",
      "metadata": {
        "id": "JU-VWwybvtZy",
        "colab_type": "text"
      },
      "source": [
        "We can drop postal_code as well."
      ]
    },
    {
      "cell_type": "code",
      "metadata": {
        "id": "D1TeRnxhrmCH",
        "colab_type": "code",
        "colab": {}
      },
      "source": [
        "business.drop(columns='postal_code', inplace = True)"
      ],
      "execution_count": 0,
      "outputs": []
    },
    {
      "cell_type": "markdown",
      "metadata": {
        "id": "e2wemW2DIOPT",
        "colab_type": "text"
      },
      "source": [
        "Since attributes is saved as dictinary-like string, we need to transform it to dictionary using **ast.literal_eval**."
      ]
    },
    {
      "cell_type": "code",
      "metadata": {
        "id": "2bhjYyt3G6Zk",
        "colab_type": "code",
        "colab": {}
      },
      "source": [
        "attribute_list = []\n",
        "for i in business['attributes'].dropna():\n",
        "  for j in ast.literal_eval(i):\n",
        "    attribute_list.append(j)"
      ],
      "execution_count": 0,
      "outputs": []
    },
    {
      "cell_type": "code",
      "metadata": {
        "id": "sXcexbVuLj0J",
        "colab_type": "code",
        "outputId": "3a427ff8-8818-43a5-bf0b-0cf2abeab53a",
        "colab": {
          "base_uri": "https://localhost:8080/",
          "height": 680
        }
      },
      "source": [
        "set(attribute_list)"
      ],
      "execution_count": 0,
      "outputs": [
        {
          "output_type": "execute_result",
          "data": {
            "text/plain": [
              "{'AcceptsInsurance',\n",
              " 'AgesAllowed',\n",
              " 'Alcohol',\n",
              " 'Ambience',\n",
              " 'BYOB',\n",
              " 'BYOBCorkage',\n",
              " 'BestNights',\n",
              " 'BikeParking',\n",
              " 'BusinessAcceptsBitcoin',\n",
              " 'BusinessAcceptsCreditCards',\n",
              " 'BusinessParking',\n",
              " 'ByAppointmentOnly',\n",
              " 'Caters',\n",
              " 'CoatCheck',\n",
              " 'Corkage',\n",
              " 'DietaryRestrictions',\n",
              " 'DogsAllowed',\n",
              " 'DriveThru',\n",
              " 'GoodForDancing',\n",
              " 'GoodForKids',\n",
              " 'GoodForMeal',\n",
              " 'HairSpecializesIn',\n",
              " 'HappyHour',\n",
              " 'HasTV',\n",
              " 'Music',\n",
              " 'NoiseLevel',\n",
              " 'Open24Hours',\n",
              " 'OutdoorSeating',\n",
              " 'RestaurantsAttire',\n",
              " 'RestaurantsCounterService',\n",
              " 'RestaurantsDelivery',\n",
              " 'RestaurantsGoodForGroups',\n",
              " 'RestaurantsPriceRange2',\n",
              " 'RestaurantsReservations',\n",
              " 'RestaurantsTableService',\n",
              " 'RestaurantsTakeOut',\n",
              " 'Smoking',\n",
              " 'WheelchairAccessible',\n",
              " 'WiFi'}"
            ]
          },
          "metadata": {
            "tags": []
          },
          "execution_count": 21
        }
      ]
    },
    {
      "cell_type": "code",
      "metadata": {
        "id": "oIswWX7aNHVZ",
        "colab_type": "code",
        "colab": {}
      },
      "source": [
        "business['is_restaurant']=business['categories'].str.contains('Restaurants')\n",
        "business['is_bar']=business['categories'].str.contains('Bars')\n",
        "business['is_nightlife']=business['categories'].str.contains('Nightlife')"
      ],
      "execution_count": 0,
      "outputs": []
    },
    {
      "cell_type": "code",
      "metadata": {
        "id": "L2C8jkRpqfbZ",
        "colab_type": "code",
        "outputId": "763edd3e-e13a-4b35-a907-a725d84fd0b7",
        "colab": {
          "base_uri": "https://localhost:8080/",
          "height": 496
        }
      },
      "source": [
        "business.head()"
      ],
      "execution_count": 0,
      "outputs": [
        {
          "output_type": "execute_result",
          "data": {
            "text/html": [
              "<div>\n",
              "<style scoped>\n",
              "    .dataframe tbody tr th:only-of-type {\n",
              "        vertical-align: middle;\n",
              "    }\n",
              "\n",
              "    .dataframe tbody tr th {\n",
              "        vertical-align: top;\n",
              "    }\n",
              "\n",
              "    .dataframe thead th {\n",
              "        text-align: right;\n",
              "    }\n",
              "</style>\n",
              "<table border=\"1\" class=\"dataframe\">\n",
              "  <thead>\n",
              "    <tr style=\"text-align: right;\">\n",
              "      <th></th>\n",
              "      <th>attributes</th>\n",
              "      <th>business_id</th>\n",
              "      <th>categories</th>\n",
              "      <th>city</th>\n",
              "      <th>hours</th>\n",
              "      <th>is_open</th>\n",
              "      <th>latitude</th>\n",
              "      <th>longitude</th>\n",
              "      <th>name</th>\n",
              "      <th>review_count</th>\n",
              "      <th>stars</th>\n",
              "      <th>state</th>\n",
              "      <th>is_restaurant</th>\n",
              "      <th>is_bar</th>\n",
              "      <th>is_nightlife</th>\n",
              "    </tr>\n",
              "  </thead>\n",
              "  <tbody>\n",
              "    <tr>\n",
              "      <th>0</th>\n",
              "      <td>{'GoodForKids': 'False'}</td>\n",
              "      <td>1SWheh84yJXfytovILXOAQ</td>\n",
              "      <td>Golf, Active Life</td>\n",
              "      <td>Phoenix</td>\n",
              "      <td>NaN</td>\n",
              "      <td>0</td>\n",
              "      <td>33.522143</td>\n",
              "      <td>-112.018481</td>\n",
              "      <td>Arizona Biltmore Golf Club</td>\n",
              "      <td>5</td>\n",
              "      <td>3.0</td>\n",
              "      <td>AZ</td>\n",
              "      <td>False</td>\n",
              "      <td>False</td>\n",
              "      <td>False</td>\n",
              "    </tr>\n",
              "    <tr>\n",
              "      <th>2</th>\n",
              "      <td>{'GoodForKids': 'True', 'NoiseLevel': \"u'avera...</td>\n",
              "      <td>gnKjwL_1w79qoiV3IC_xQQ</td>\n",
              "      <td>Sushi Bars, Restaurants, Japanese</td>\n",
              "      <td>Charlotte</td>\n",
              "      <td>{'Monday': '17:30-21:30', 'Wednesday': '17:30-...</td>\n",
              "      <td>1</td>\n",
              "      <td>35.092564</td>\n",
              "      <td>-80.859132</td>\n",
              "      <td>Musashi Japanese Restaurant</td>\n",
              "      <td>170</td>\n",
              "      <td>4.0</td>\n",
              "      <td>NC</td>\n",
              "      <td>True</td>\n",
              "      <td>True</td>\n",
              "      <td>False</td>\n",
              "    </tr>\n",
              "    <tr>\n",
              "      <th>3</th>\n",
              "      <td>NaN</td>\n",
              "      <td>xvX2CttrVhyG2z1dFg_0xw</td>\n",
              "      <td>Insurance, Financial Services</td>\n",
              "      <td>Goodyear</td>\n",
              "      <td>{'Monday': '8:0-17:0', 'Tuesday': '8:0-17:0', ...</td>\n",
              "      <td>1</td>\n",
              "      <td>33.455613</td>\n",
              "      <td>-112.395596</td>\n",
              "      <td>Farmers Insurance - Paul Lorenz</td>\n",
              "      <td>3</td>\n",
              "      <td>5.0</td>\n",
              "      <td>AZ</td>\n",
              "      <td>False</td>\n",
              "      <td>False</td>\n",
              "      <td>False</td>\n",
              "    </tr>\n",
              "    <tr>\n",
              "      <th>4</th>\n",
              "      <td>{'BusinessAcceptsBitcoin': 'False', 'ByAppoint...</td>\n",
              "      <td>HhyxOkGAM07SRYtlQ4wMFQ</td>\n",
              "      <td>Plumbing, Shopping, Local Services, Home Servi...</td>\n",
              "      <td>Charlotte</td>\n",
              "      <td>{'Monday': '7:0-23:0', 'Tuesday': '7:0-23:0', ...</td>\n",
              "      <td>1</td>\n",
              "      <td>35.190012</td>\n",
              "      <td>-80.887223</td>\n",
              "      <td>Queen City Plumbing</td>\n",
              "      <td>4</td>\n",
              "      <td>4.0</td>\n",
              "      <td>NC</td>\n",
              "      <td>False</td>\n",
              "      <td>False</td>\n",
              "      <td>False</td>\n",
              "    </tr>\n",
              "    <tr>\n",
              "      <th>7</th>\n",
              "      <td>{'RestaurantsPriceRange2': '3', 'GoodForKids':...</td>\n",
              "      <td>gbQN7vr_caG_A1ugSmGhWg</td>\n",
              "      <td>Hair Salons, Hair Stylists, Barbers, Men's Hai...</td>\n",
              "      <td>Las Vegas</td>\n",
              "      <td>{'Monday': '10:0-19:0', 'Tuesday': '10:0-19:0'...</td>\n",
              "      <td>1</td>\n",
              "      <td>36.099872</td>\n",
              "      <td>-115.074574</td>\n",
              "      <td>Supercuts</td>\n",
              "      <td>3</td>\n",
              "      <td>3.5</td>\n",
              "      <td>NV</td>\n",
              "      <td>False</td>\n",
              "      <td>False</td>\n",
              "      <td>False</td>\n",
              "    </tr>\n",
              "  </tbody>\n",
              "</table>\n",
              "</div>"
            ],
            "text/plain": [
              "                                          attributes  ... is_nightlife\n",
              "0                           {'GoodForKids': 'False'}  ...        False\n",
              "2  {'GoodForKids': 'True', 'NoiseLevel': \"u'avera...  ...        False\n",
              "3                                                NaN  ...        False\n",
              "4  {'BusinessAcceptsBitcoin': 'False', 'ByAppoint...  ...        False\n",
              "7  {'RestaurantsPriceRange2': '3', 'GoodForKids':...  ...        False\n",
              "\n",
              "[5 rows x 15 columns]"
            ]
          },
          "metadata": {
            "tags": []
          },
          "execution_count": 29
        }
      ]
    },
    {
      "cell_type": "markdown",
      "metadata": {
        "id": "AKj_hTcCu7cP",
        "colab_type": "text"
      },
      "source": [
        "We would like to focus on certain topics."
      ]
    },
    {
      "cell_type": "code",
      "metadata": {
        "id": "f6TPrwgFqiG8",
        "colab_type": "code",
        "outputId": "ce82c901-be25-45a9-b5b4-f790f68844f6",
        "colab": {
          "base_uri": "https://localhost:8080/",
          "height": 71
        }
      },
      "source": [
        "category_list = []\n",
        "for i in business['categories']:\n",
        "    category_list.extend(i.split(', '))\n",
        "\n",
        "category_set = set(category_list) #find unique category\n",
        "category_count = {} \n",
        "\n",
        "for i in category_set:\n",
        "    category_count[i] = category_list.count(i)\n",
        "\n",
        "category_sort = sorted(category_count.items(), key=operator.itemgetter(1), reverse=True)\n",
        "print(category_sort)\n",
        "print(len(category_set))"
      ],
      "execution_count": 0,
      "outputs": [
        {
          "output_type": "stream",
          "text": [
            "[('Restaurants', 35876), ('Shopping', 24260), ('Food', 19176), ('Home Services', 18161), ('Health & Medical', 14898), ('Beauty & Spas', 14810), ('Local Services', 11884), ('Automotive', 11283), ('Nightlife', 8977), ('Event Planning & Services', 7908), ('Bars', 7729), ('Active Life', 7489), ('American (Traditional)', 5852), ('Fashion', 5749), ('Professional Services', 5654), ('Fast Food', 5422), ('Doctors', 5370), ('Real Estate', 5365), ('Sandwiches', 5318), ('Hair Salons', 5302), ('Home & Garden', 5275), ('Auto Repair', 5139), ('Arts & Entertainment', 4876), ('Pizza', 4707), ('Hotels & Travel', 4553), ('American (New)', 4269), ('Coffee & Tea', 4193), ('Mexican', 3960), ('Nail Salons', 3806), ('Burgers', 3764), ('Fitness & Instruction', 3579), ('Breakfast & Brunch', 3343), ('Pets', 3267), ('Dentists', 3180), ('Hair Removal', 3018), ('Italian', 2872), ('Contractors', 2868), ('Financial Services', 2857), ('Specialty Food', 2747), ('Education', 2731), ('Skin Care', 2654), ('Apartments', 2488), ('Grocery', 2484), ('General Dentistry', 2468), ('Pet Services', 2331), ('Chinese', 2240), (\"Women's Clothing\", 2191), ('Bakeries', 2057), ('Desserts', 2044), ('Ice Cream & Frozen Yogurt', 2024), ('Massage', 1992), ('Hotels', 1970), ('Salad', 1962), ('Oil Change Stations', 1962), ('Tires', 1954), ('Waxing', 1932), ('Chicken Wings', 1924), ('Day Spas', 1917), ('Hair Stylists', 1896), ('Cosmetic Dentists', 1870), ('Auto Parts & Supplies', 1801), ('Gyms', 1798), ('Caterers', 1709), ('Sports Bars', 1708), ('Seafood', 1695), ('Home Decor', 1683), ('Accessories', 1677), ('Beer', 1676), ('Convenience Stores', 1676), ('Wine & Spirits', 1676), ('Cosmetics & Beauty Supply', 1661), ('Flowers & Gifts', 1642), ('Barbers', 1617), ('Sporting Goods', 1577), ('Venues & Event Spaces', 1574), ('Car Dealers', 1555), ('Trainers', 1539), ('Furniture Stores', 1521), ('Delis', 1482), ('Real Estate Services', 1481), ('Gas Stations', 1469), ('Cafes', 1456), ('Drugstores', 1444), ('Eyelash Service', 1441), ('Heating & Air Conditioning/HVAC', 1430), ('Medical Centers', 1430), ('Massage Therapy', 1426), ('Jewelry', 1383), (\"Men's Clothing\", 1324), ('Arts & Crafts', 1286), ('Pet Groomers', 1286), ('Electronics', 1285), ('Department Stores', 1279), ('Japanese', 1277), ('IT Services & Computer Repair', 1271), ('Plumbing', 1241), ('Banks & Credit Unions', 1240), ('Specialty Schools', 1231), ('Juice Bars & Smoothies', 1203), ('Landscaping', 1145), ('Body Shops', 1143), ('Barbeque', 1141), ('Party & Event Planning', 1140), ('Real Estate Agents', 1132), ('Sushi Bars', 1126), ('Chiropractors', 1122), ('Home Cleaning', 1112), ('Shoe Stores', 1107), ('Local Flavor', 1104), ('Asian Fusion', 1095), ('Laundry Services', 1078), ('Dry Cleaning & Laundry', 1078), ('Pubs', 1077), ('Lounges', 1074), ('Mobile Phones', 1061), ('Pet Sitting', 1052), ('Steakhouses', 1047), ('Optometrists', 1044), ('Makeup Artists', 1034), ('Public Services & Government', 1020), ('Veterinarians', 1012), ('Medical Spas', 987), ('Car Wash', 981), ('Lawyers', 978), ('Hair Extensions', 970), ('Printing Services', 966), ('Property Management', 950), ('Diners', 934), ('Orthodontists', 913), ('Mediterranean', 913), ('Self Storage', 913), ('Performing Arts', 913), ('Mags', 898), ('Books', 898), ('Music & Video', 898), ('Insurance', 888), ('Movers', 876), ('Eyewear & Opticians', 866), ('Photographers', 865), ('Carpet Cleaning', 855), ('Oral Surgeons', 854), ('Auto Detailing', 849), ('Flooring', 847), ('Pet Stores', 838), ('Cocktail Bars', 837), ('Physical Therapy', 825), ('Yoga', 824), ('Discount Store', 821), ('Building Supplies', 820), ('Sewing & Alterations', 817), ('Wine Bars', 813), (\"Men's Hair Salons\", 802), ('Florists', 798), ('Tanning', 794), ('Appliances & Repair', 788), ('Transportation', 780), ('Auto Glass Services', 775), ('Tobacco Shops', 764), ('Music Venues', 763), ('Parks', 757), ('Kitchen & Bath', 754), ('Weight Loss Centers', 730), ('Food Trucks', 726), ('Wedding Planning', 713), ('Family Practice', 706), ('Shipping Centers', 706), ('Appliances', 699), ('Child Care & Day Care', 684), ('Tattoo', 681), ('Car Rental', 679), ('Thai', 670), ('Vegetarian', 664), ('Preschools', 662), ('Mattresses', 658), ('Hardware Stores', 652), ('Mortgage Brokers', 650), ('Buffets', 642), ('Food Delivery Services', 630), ('Towing', 624), ('Pool Cleaners', 621), ('Gift Shops', 621), ('Interior Design', 619), ('Pool & Hot Tub Service', 616), ('Art Galleries', 611), ('Tex-Mex', 606), ('Sports Wear', 599), ('Pediatric Dentists', 592), ('Pest Control', 591), ('Greek', 585), ('Soup', 580), ('Vintage & Consignment', 576), ('Used', 576), ('Donuts', 572), ('Dance Clubs', 572), ('Transmission Repair', 571), ('Tours', 570), ('Thrift Stores', 570), ('Endodontists', 568), ('Hot Dogs', 566), ('Mobile Phone Repair', 565), ('Nurseries & Gardening', 560), ('Painters', 559), ('Vape Shops', 551), ('Electronics Repair', 550), ('Blow Dry/Out Services', 542), ('Handyman', 538), ('Notaries', 536), ('Hobby Shops', 533), ('Event Photography', 528), ('Session Photography', 528), ('Health Markets', 523), ('Elementary Schools', 523), ('Nutritionists', 522), ('Gluten-Free', 515), ('Electricians', 508), ('Pet Training', 506), ('Ethnic Food', 503), ('Dive Bars', 500), ('Religious Organizations', 500), ('Graphic Design', 493), ('Golf', 493), ('Antiques', 491), ('Vegan', 484), ('Community Service/Non-Profit', 477), ('Acupuncture', 472), ('Diagnostic Services', 470), ('Martial Arts', 470), ('Damage Restoration', 469), ('Permanent Makeup', 457), ('Tree Services', 456), ('Auto Insurance', 456), ('Bridal', 455), ('Auto Customization', 452), ('Obstetricians & Gynecologists', 451), ('Office Cleaning', 451), ('Southern', 450), ('Periodontists', 442), ('Indian', 441), ('Urgent Care', 439), ('Photography Stores & Services', 438), ('Bagels', 438), ('Carpeting', 430), ('Hot Tub & Pool', 429), ('Security Systems', 427), ('Water Heater Installation/Repair', 427), ('Swimming Pools', 420), ('Eyebrow Services', 418), ('Mobile Phone Accessories', 418), ('Personal Injury Law', 417), ('Home & Rental Insurance', 415), ('Toy Stores', 413), ('Naturopathic/Holistic', 410), ('Casinos', 409), (\"Children's Clothing\", 408), ('Internet Service Providers', 407), ('Reflexology', 407), ('Marketing', 406), ('Windshield Installation & Repair', 405), ('Comfort Food', 404), ('Middle Eastern', 402), ('Sports Medicine', 401), ('Windows Installation', 400), ('Vietnamese', 399), ('Laser Hair Removal', 395), ('Internal Medicine', 395), ('Churches', 394), ('Latin American', 393), ('Beer Bar', 391), ('Breweries', 388), ('Boot Camps', 387), ('Computers', 382), ('Roofing', 381), ('Cosmetic Surgeons', 381), ('Masonry/Concrete', 380), ('Hospitals', 378), ('Counseling & Mental Health', 377), ('Spray Tanning', 372), ('Bikes', 360), ('Tax Services', 358), ('Pediatricians', 357), ('Party Supplies', 357), ('Ophthalmologists', 356), ('Travel Services', 355), ('Chicken Shop', 352), ('Shades & Blinds', 352), ('Web Design', 347), ('Lighting Fixtures & Equipment', 345), ('Piercing', 345), ('Limos', 339), ('Keys & Locksmiths', 339), ('Bookstores', 336), ('Cupcakes', 334), ('Korean', 333), ('Festivals', 332), ('Dry Cleaning', 330), ('Home Inspectors', 323), ('Smog Check Stations', 323), ('Shopping Centers', 323), ('Mailbox Centers', 321), ('Divorce & Family Law', 321), ('Pharmacy', 316), ('Irrigation', 316), ('Wheel & Rim Repair', 315), ('Watches', 313), ('Garage Door Services', 313), ('Landscape Architects', 310), ('Meat Shops', 307), ('Cabinetry', 307), ('Window Washing', 306), ('Outdoor Gear', 306), ('Adult Entertainment', 305), ('Accountants', 303), ('Farmers Market', 303), ('Sports Clubs', 303), ('Signmaking', 300), ('Tiling', 299), ('Cinema', 298), ('Orthopedists', 298), ('Musical Instruments & Teachers', 297), ('Amusement Parks', 296), ('Financial Advising', 295), ('Dance Studios', 294), ('Kids Activities', 292), ('Hawaiian', 292), ('Used Car Dealers', 289), ('Couriers & Delivery Services', 287), ('Pilates', 287), ('Criminal Defense Law', 287), ('Telecommunications', 286), ('Gardeners', 286), ('Outlet Stores', 285), ('Door Sales/Installation', 285), ('Gastropubs', 284), ('Airport Shuttles', 284), ('Street Vendors', 283), ('Rehabilitation Center', 282), ('Vitamins & Supplements', 280), ('Office Equipment', 278), ('Jewelry Repair', 276), ('Motorcycle Repair', 274), ('Arcades', 274), ('Motorcycle Dealers', 273), ('Soul Food', 272), ('Guns & Ammo', 270), ('Wholesale Stores', 268), ('Mass Media', 268), ('Party Equipment Rentals', 267), ('Tacos', 267), ('Dermatologists', 266), ('Chocolatiers & Shops', 265), ('Fruits & Veggies', 263), ('Karaoke', 262), ('Noodles', 260), ('Junk Removal & Hauling', 259), ('Baby Gear & Furniture', 259), ('Candy Stores', 257), ('Tapas/Small Plates', 257), ('Art Supplies', 255), ('Life Coach', 254), ('Bubble Tea', 254), ('Post Offices', 253), ('Middle Schools & High Schools', 252), ('Educational Services', 252), ('French', 251), ('Museums', 251), ('Food Stands', 248), ('Life Insurance', 247), ('Reiki', 246), ('Truck Rental', 245), ('Dog Walkers', 245), ('Summer Camps', 243), ('Home Health Care', 242), ('Shaved Ice', 241), ('Pressure Washers', 241), ('Formal Wear', 238), ('Cards & Stationery', 238), ('Videos & Video Game Rental', 237), ('Custom Cakes', 231), ('Pet Boarding', 230), ('Air Duct Cleaning', 229), ('Nail Technicians', 228), ('Interval Training Gyms', 227), ('Recreation Centers', 223), ('Colleges & Universities', 222), ('Hookah Bars', 221), ('Playgrounds', 221), ('Advertising', 219), ('Bike Rentals', 218), ('Threading Services', 216), ('Furniture Reupholstery', 215), ('Glass & Mirrors', 214), ('Diagnostic Imaging', 214), ('Pain Management', 214), ('Commercial Real Estate', 213), ('Pawn Shops', 212), ('Taxis', 212), ('Drywall Installation & Repair', 212), ('Shoe Repair', 210), ('Legal Services', 208), ('Auto Loan Providers', 207), ('Car Stereo Installation', 207), ('Car Window Tinting', 206), ('Home Window Tinting', 204), ('DUI Law', 203), ('Bike Repair/Maintenance', 202), ('Caribbean', 200), ('Watch Repair', 197), ('Laboratory Testing', 197), ('Laser Eye Surgery/Lasik', 196), ('Cheesesteaks', 194), ('Cajun/Creole', 193), ('Resorts', 193), ('Fences & Gates', 190), ('Video/Film Production', 188), ('Television Service Providers', 188), ('Lingerie', 188), ('Art Classes', 188), ('Water Purification Services', 187), ('Check Cashing/Pay-day Loans', 187), ('Employment Agencies', 187), ('Music & DVDs', 186), ('Bowling', 186), ('Hiking', 186), ('Boxing', 186), ('Screen Printing/T-Shirt Printing', 182), ('Medical Supplies', 180), ('General Litigation', 179), ('Bankruptcy Law', 179), ('Libraries', 177), ('Refinishing Services', 177), ('Tapas Bars', 175), ('Funeral Services & Cemeteries', 173), ('Carpet Installation', 173), ('Home Theatre Installation', 172), ('DJs', 172), ('Home Organization', 171), ('Surgeons', 170), ('Estate Planning Law', 170), ('Packing Services', 169), ('Fabric Stores', 169), ('Plus Size Fashion', 168), ('Dance Schools', 168), ('Podiatrists', 168), ('Leather Goods', 166), ('Data Recovery', 165), ('Tutoring Centers', 164), ('Adult Education', 164), ('Investing', 163), ('Retirement Homes', 161), ('Solar Installation', 161), ('Traditional Chinese Medicine', 161), ('Mortgage Lenders', 161), ('Head Shops', 160), ('Musical Instrument Services', 159), ('Tea Rooms', 158), ('Gold Buyers', 158), ('Cannabis Clinics', 158), ('Airports', 157), ('Floral Designers', 154), ('Wraps', 153), ('Do-It-Yourself Food', 152), ('Videographers', 152), ('Countertop Installation', 150), ('Pool Halls', 149), ('Barre Classes', 149), ('Amateur Sports Teams', 149), ('Landmarks & Historical Buildings', 149), ('RV Repair', 148), ('Imported Food', 147), ('Bed & Breakfast', 147), ('Halal', 146), ('Gutter Services', 144), ('Gun/Rifle Ranges', 143), ('Home Automation', 142), ('Packing Supplies', 141), ('Pakistani', 140), ('Boating', 139), ('Pet Adoption', 138), ('Roadside Assistance', 138), ('Stadiums & Arenas', 138), ('Parking', 137), ('Comic Books', 137), ('Party Bus Rentals', 137), ('Social Clubs', 135), ('Photo Booth Rentals', 135), ('Supernatural Readings', 134), ('Gay Bars', 134), ('Personal Shopping', 134), ('Vehicle Wraps', 133), ('Fish & Chips', 132), ('Wineries', 131), ('Gelato', 131), ('Real Estate Law', 130), ('RV Dealers', 130), ('Print Media', 129), ('Tattoo Removal', 128), ('Laundromat', 128), ('Art Schools', 127), ('Rugs', 127), ('Recycling Center', 125), ('Shutters', 125), ('Poke', 124), ('Adult', 124), ('Cardiologists', 122), ('Business Law', 122), ('Filipino', 121), ('Animal Shelters', 121), ('Cosmetology Schools', 121), ('Costumes', 120), ('Ramen', 119), ('Grout Services', 118), ('Comedy Clubs', 118), ('Private Tutors', 118), ('Business Consulting', 118), ('Customized Merchandise', 117), ('Irish', 117), ('Metal Fabricators', 116), ('Framing', 115), ('Dog Parks', 115), ('Coffee Roasteries', 114), ('Departments of Motor Vehicles', 113), ('Ear Nose & Throat', 113), ('Gymnastics', 113), ('Neurologist', 112), ('Escape Games', 112), ('Tanning Beds', 112), ('Payroll Services', 111), ('Spanish', 110), ('Screen Printing', 110), ('Teeth Whitening', 109), ('Patio Coverings', 109), ('Embroidery & Crochet', 108), ('Creperies', 108), ('Seafood Markets', 107), ('Occupational Therapy', 107), ('Public Transportation', 107), ('International Grocery', 105), ('Vocational & Technical School', 105), ('Allergists', 104), ('Organic Stores', 104), ('Battery Stores', 104), ('Cannabis Dispensaries', 104), ('Airlines', 103), ('Radiologists', 103), ('Internet Cafes', 101), ('Paint & Sip', 101), ('Paint Stores', 101), ('Septic Services', 101), ('University Housing', 99), ('Title Loans', 99), ('Wigs', 99), ('Driving Schools', 97), ('Swimwear', 97), ('Psychiatrists', 97), ('Security Services', 96), ('Uniforms', 96), ('Jazz & Blues', 96), ('Butcher', 95), ('Artificial Turf', 93), ('Bespoke Clothing', 93), ('Vacation Rentals', 93), ('Utilities', 93), ('Cardio Classes', 92), ('Acai Bowls', 92), ('Personal Chefs', 90), ('Cycling Classes', 90), ('Knitting Supplies', 90), ('Fireplace Services', 89), ('Video Game Stores', 89), ('Szechuan', 89), ('Wholesalers', 88), ('TV Mounting', 87), ('Audiologist', 87), ('Outdoor Furniture Stores', 87), ('Career Counseling', 87), ('Food Court', 86), ('Golf Equipment', 86), ('Boat Repair', 86), ('Assisted Living Facilities', 86), ('Shared Office Spaces', 85), ('Plastic Surgeons', 85), ('Country Clubs', 84), ('Motorcycle Gear', 84), ('Propane', 84), ('Fitness/Exercise Equipment', 84), ('Herbs & Spices', 83), ('Trusts', 83), ('Meditation Centers', 83), ('Wills', 83), ('& Probates', 83), ('Swimming Lessons/Schools', 82), ('Test Preparation', 82), ('Pretzels', 82), ('Special Education', 81), ('Tennis', 81), ('Team Building Activities', 80), ('Siding', 80), ('Radio Stations', 79), ('Hospice', 79), ('Horseback Riding', 78), ('Waffles', 78), ('Carpenters', 78), ('Wedding Chapels', 78), ('Beer Gardens', 78), ('Cooking Schools', 78), ('RV Rental', 77), ('Vinyl Records', 76), ('Modern European', 76), ('Registration Services', 76), ('Taiwanese', 76), ('Dim Sum', 76), ('Commercial Truck Repair', 75), ('Pasta Shops', 75), ('Mini Golf', 75), ('Cheese Shops', 73), ('Midwives', 73), ('Decks & Railing', 73), ('Cantonese', 73), ('Furniture Repair', 72), ('Mountain Biking', 72), ('Guitar Stores', 72), ('Service Stations', 71), ('Orthotics', 70), ('Yelp Events', 70), ('Gastroenterologist', 69), ('Hearing Aid Providers', 69), ('Hair Loss Centers', 68), ('Auction Houses', 68), ('Henna Artists', 68), ('Auto Upholstery', 67), ('Home Staging', 67), ('Patisserie/Cake Shop', 66), ('Urologists', 65), ('Immigration Law', 65), ('Souvenir Shops', 65), ('Peruvian', 65), ('Lebanese', 64), ('Car Buyers', 64), ('German', 63), ('Soccer', 63), ('Lawn Services', 63), ('Ticket Sales', 63), ('Cuban', 63), ('Employment Law', 63), ('Insulation Installation', 63), ('Bookkeepers', 63), ('Body Contouring', 62), ('Golf Lessons', 62), ('Appraisal Services', 62), ('Hypnosis/Hypnotherapy', 62), ('Kosher', 61), ('Skating Rinks', 61), ('Psychics', 60), ('Luggage', 60), ('Fertility', 60), ('Firearm Training', 60), ('Speech Therapists', 60), ('RV Parks', 59), ('Cooking Classes', 59), ('Popcorn Shops', 59), ('Professional Sports Teams', 59), ('Kickboxing', 58), ('Endocrinologists', 57), ('Sleep Specialists', 57), ('Officiants', 56), ('Trailer Repair', 56), ('Water Stores', 56), ('Skilled Nursing', 55), ('New Mexican Cuisine', 55), ('Tabletop Games', 55), ('Oncologist', 55), ('Irish Pub', 55), ('African', 55), ('Musicians', 54), ('Personal Assistants', 54), ('Boudoir Photography', 54), ('Magicians', 54), ('Psychologists', 54), ('Karate', 54), ('Maternity Wear', 53), ('Persian/Iranian', 53), ('Campgrounds', 53), ('Turkish', 52), ('Brazilian Jiu-jitsu', 52), ('Candle Stores', 52), ('Stucco Services', 52), ('Awnings', 52), ('Real Estate Photography', 52), ('Snow Removal', 52), ('Rafting/Kayaking', 52), ('Hydro-jetting', 52), ('Challenge Courses', 52), ('Trampoline Parks', 51), ('ATV Rentals/Tours', 51), ('Furniture Assembly', 51), ('Walk-in Clinics', 51), ('Emergency Rooms', 51), ('Salvadoran', 51), ('Taekwondo', 51), ('Bus Tours', 51), ('Brazilian', 50), ('Architects', 50), ('Shredding Services', 50), ('IV Hydration', 50), ('Vehicle Shipping', 50), ('Waterproofing', 50), ('Hats', 50), ('Private Investigation', 49), ('Home Network Installation', 49), ('CPR Classes', 49), ('Wildlife Control', 48), ('Sugaring', 48), ('Beaches', 47), ('Installment Loans', 46), ('Pool & Billiards', 45), ('Travel Agents', 45), ('Wine Tasting Room', 45), ('Spiritual Shop', 45), ('British', 45), ('Water Delivery', 45), ('Brewpubs', 45), ('Diving', 45), ('Boat Dealers', 45), ('Ethiopian', 44), ('Fire Protection Services', 44), ('Farms', 44), ('Police Departments', 44), ('Montessori Schools', 44), ('Christmas Trees', 44), ('Blood & Plasma Donation Centers', 43), ('Race Tracks', 43), ('Pet Photography', 43), ('Osteopathic Physicians', 43), ('Lactation Services', 43), ('Donation Center', 43), ('Buses', 43), ('Estate Liquidation', 43), ('Auto Security', 43), ('Hot Pot', 43), ('Prosthodontists', 42), ('Farming Equipment', 42), ('Falafel', 42), ('Piano Services', 42), ('Emergency Pet Hospital', 42), ('Mobile Dent Repair', 42), ('Smokehouse', 42), ('Polish', 42), ('Laser Tag', 42), ('Medical Transportation', 41), ('Workers Compensation Law', 41), ('Live/Raw Food', 41), ('Traffic Ticketing Law', 41), ('Walking Tours', 41), ('Engraving', 40), ('Circuit Training Gyms', 40), ('Skate Shops', 40), ('Self-defense Classes', 40), ('Bartenders', 40), ('Condominiums', 40), ('Recording & Rehearsal Studios', 40), ('Scuba Diving', 39), ('Saunas', 39), ('Talent Agencies', 38), ('Whiskey Bars', 38), ('Leisure Centers', 38), ('Sunglasses', 38), ('Public Relations', 38), ('Distilleries', 38), ('Aquariums', 38), ('Cultural Center', 37), ('Debt Relief Services', 37), ('Hunting & Fishing Supplies', 37), ('Cafeteria', 37), ('Fishing', 37), ('Lakes', 37), ('Pan Asian', 37), ('Pet Transportation', 36), ('Races & Competitions', 36), ('Trophy Shops', 36), ('Kids Hair Salons', 36), ('Cremation Services', 36), ('Newspapers & Magazines', 36), ('Solar Panel Cleaning', 36), ('Chimney Sweeps', 36), ('Face Painting', 36), ('Health Coach', 36), ('Livestock Feed & Supply', 36), ('Commercial Truck Dealers', 36), ('Mongolian', 35), ('Kebab', 35), ('Vacation Rental Agents', 35), ('Acne Treatment', 35), ('Demolition Services', 35), ('Anesthesiologists', 35), ('Historical Tours', 35), ('Television Stations', 35), ('Personal Care Services', 35), ('Software Development', 34), ('Skate Parks', 34), ('Community Centers', 34), ('Grilling Equipment', 34), ('Prosthetics', 34), ('Trailer Rental', 34), ('Zoos', 34), ('Pet Cremation Services', 34), ('Colonics', 34), ('Religious Schools', 34), ('Cryotherapy', 34), ('Strip Clubs', 34), ('Dental Hygienists', 34), ('Paint-Your-Own Pottery', 33), ('Flight Instruction', 33), ('Horse Boarding', 33), ('Doulas', 33), ('Bail Bondsmen', 33), ('Boat Charters', 33), ('First Aid Classes', 33), ('Home Energy Auditors', 33), ('Motorcycle Rental', 33), ('Flea Markets', 33), ('Town Car Service', 32), ('Botanical Gardens', 32), ('Addiction Medicine', 32), ('Health Insurance Offices', 32), ('Aquarium Services', 32), ('Go Karts', 32), ('Haunted Houses', 32), ('Macarons', 32), ('Tai Chi', 32), ('Balloon Services', 32), ('Holiday Decorations', 32), ('Batting Cages', 31), ('Powder Coating', 31), ('Courthouses', 31), ('Aestheticians', 31), ('Rock Climbing', 31), ('Teppanyaki', 31), ('Prenatal/Perinatal Care', 30), ('Climbing', 30), ('Environmental Abatement', 30), ('Beverage Store', 30), ('Safe Stores', 30), ('Paddleboarding', 30), ('Hydrotherapy', 29), ('Alternative Medicine', 29), ('Trailer Dealers', 29), ('Farm Equipment Repair', 29), ('Cabaret', 29), ('Clothing Rental', 29), ('Wine Tours', 29), ('Colombian', 29), ('Pulmonologist', 29), ('Local Fish Stores', 29), ('Hostels', 28), ('Psychic Mediums', 28), ('Nurse Practitioner', 28), ('Business Financing', 28), ('Nanny Services', 28), ('Airport Terminals', 28), ('Mobility Equipment Sales & Services', 28), ('Ethnic Grocery', 28), ('Food Tours', 27), ('Medical Cannabis Referrals', 27), ('Massage Schools', 27), ('Paintball', 27), ('Day Camps', 27), ('Spine Surgeons', 27), ('Pet Breeders', 27), ('Tax Law', 27), ('Art Museums', 26), ('Party Characters', 26), ('Roof Inspectors', 26), ('Moroccan', 26), ('Puerto Rican', 26), ('Foundation Repair', 26), ('Afghan', 26), ('Opera & Ballet', 26), ('Used Bookstore', 25), ('Fondue', 25), ('High Fidelity Audio Equipment', 25), ('Disc Golf', 25), ('Brasseries', 24), ('Estheticians', 24), ('Knife Sharpening', 24), ('Mortuary Services', 24), ('House Sitters', 24), ('Dumpster Rental', 24), ('Firewood', 24), ('Process Servers', 24), ('Editorial Services', 24), ('Float Spa', 24), ('Izakaya', 23), ('Piano Bars', 23), ('Fingerprinting', 23), ('Guest Houses', 22), ('Cigar Bars', 22), ('Himalayan/Nepalese', 22), ('Generator Installation/Repair', 22), ('Preventive Medicine', 22), ('Restaurant Supplies', 22), ('Brewing Supplies', 22), ('Archery', 22), ('Motorsport Vehicle Repairs', 22), ('Bounce House Rentals', 22), ('Jet Skis', 22), ('Language Schools', 22), ('Medical Law', 22), ('Aerial Tours', 22), ('Pop-up Shops', 22), ('Furniture Rental', 22), ('Russian', 21), ('Machine & Tool Rental', 21), ('Mediators', 21), ('Gunsmith', 21), ('Vascular Medicine', 21), ('Basque', 21), ('Belgian', 21), ('Health Retreats', 21), ('Environmental Testing', 21), ('Speakeasies', 21), ('Hot Air Balloons', 20), ('Argentine', 20), ('Bistros', 20), ('Aerial Fitness', 20), ('Dance Wear', 20), ('Music Production Services', 20), ('Arabian', 20), ('Clock Repair', 20), ('Pet Waste Removal', 20), ('Parenting Classes', 20), ('Indoor Playcentre', 20), ('Airport Lounges', 20), ('Country Dance Halls', 19), ('Matchmakers', 19), ('Childbirth Education', 19), ('Translation Services', 19), ('Tui Na', 19), ('Olive Oil', 19), ('Ski & Snowboard Shops', 19), ('Laotian', 19), ('Train Stations', 19), ('Retina Specialists', 19), ('Car Brokers', 19), ('Valet Services', 18), ('Coffeeshops', 18), ('Rheumatologists', 18), ('Car Inspectors', 18), ('Concierge Medicine', 18), ('Venezuelan', 18), ('Dominican', 18), ('Synagogues', 18), ('Malaysian', 18), ('Motorsport Vehicle Dealers', 18), ('Shoe Shine', 18), ('CSA', 17), ('Excavation Services', 17), ('Golf Equipment Shops', 17), ('Mobile Home Parks', 17), ('Memory Care', 17), ('Basketball Courts', 17), ('Eatertainment', 17), ('Clowns', 17), ('Golf Cart Rentals', 17), ('Social Security Law', 17), ('Oxygen Bars', 17), ('Buddhist Temples', 16), ('Golf Cart Dealers', 16), ('Pole Dancing Classes', 16), ('Bingo Halls', 16), ('Rolfing', 16), ('Home Developers', 16), ('LAN Centers', 16), ('Bird Shops', 16), ('Champagne Bars', 16), ('Beer Tours', 15), ('Pick Your Own Farms', 15), ('Muay Thai', 15), ('Cambodian', 15), ('Bar Crawl', 15), ('Empanadas', 15), ('Lighting Stores', 15), ('Horse Equipment Shops', 15), ('Tasting Classes', 15), ('Homeowner Association', 15), ('Product Design', 15), ('Piano Stores', 15), ('Pet Hospice', 15), ('Private Schools', 14), ('Childproofing', 14), ('Shaved Snow', 14), ('Club Crawl', 14), ('Chinese Martial Arts', 14), ('Holiday Decorating Services', 14), ('Pumpkin Patches', 13), ('Lice Services', 13), ('College Counseling', 13), ('Dinner Theater', 13), ('Racing Experience', 13), ('Boat Tours', 13), ('Hungarian', 13), ('Religious Items', 13), ('Traffic Schools', 13), ('Herbal Shops', 13), ('Baseball Fields', 13), ('Halotherapy', 12), ('Perfume', 12), ('Attraction Farms', 12), ('Placenta Encapsulations', 12), ('Skydiving', 12), ('Tiki Bars', 12), ('Elder Care Planning', 12), ('Holistic Animal Care', 12), ('Tenant and Eviction Law', 12), ('Bartending Schools', 12), ('Neurotologists', 12), ('Machine Shops', 12), ('Ethical Grocery', 11), ('Tableware', 11), ('Commissioned Artists', 11), ('Marinas', 11), ('Airsoft', 11), ('Wallpapering', 11), ('Ice Delivery', 11), ('Spin Classes', 11), ('Car Share Services', 10), ('Caricatures', 10), ('Ultrasound Imaging Centers', 10), ('Singaporean', 10), ('Ayurveda', 10), ('Passport & Visa Services', 10), ('Misting System Services', 10), ('Art Restoration', 10), ('Food Banks', 10), ('Fire Departments', 10), ('Dietitians', 10), ('Cannabis Tours', 10), ('Adoption Services', 10), ('Party Bike Rentals', 10), ('Honey', 9), ('Hazardous Waste Disposal', 9), ('Hydroponics', 9), ('Car Auctions', 9), ('Gemstones & Minerals', 9), ('Shanghainese', 9), (\"Children's Museums\", 9), ('Portuguese', 9), ('IP & Internet Law', 9), ('Hockey Equipment', 9), ('Senior Centers', 9), ('Poutineries', 9), ('Water Parks', 9), ('Armenian', 9), ('Wine Tasting Classes', 9), ('Emergency Medicine', 9), ('Currency Exchange', 9), ('Audio/Visual Equipment Rental', 9), ('Bike tours', 9), ('Reptile Shops', 9), ('Sandblasting', 8), ('Private Jet Charter', 8), ('Mobile Home Dealers', 8), ('Structural Engineers', 8), ('Game Truck Rental', 8), ('Dive Shops', 8), ('Scavenger Hunts', 8), ('Ziplining', 8), ('Fireworks', 8), ('Backflow Services', 8), ('Cannabis Collective', 8), ('Virtual Reality Centers', 8), ('Delicatessen', 8), ('Themed Cafes', 8), ('Nursing Schools', 8), ('Cheerleading', 8), ('Surfing', 8), ('Glass Blowing', 7), ('Indonesian', 7), ('Immunodermatologists', 7), ('Well Drilling', 7), ('Qi Gong', 7), ('Cideries', 7), ('Striptease Dancers', 7), ('Disability Law', 7), ('Visitor Centers', 7), ('Photography Classes', 7), ('Behavior Analysts', 7), ('Pet Insurance', 7), ('Scooter Rentals', 7), ('Horse Racing', 7), ('Egyptian', 7), ('Burmese', 7), ('Ukrainian', 7), ('Military Surplus', 7), ('Sex Therapists', 7), ('Axe Throwing', 7), ('Art Tours', 7), ('Pop-Up Restaurants', 7), ('Contract Law', 7), ('Flowers', 6), ('Bicycles', 6), ('Art Space Rentals', 6), ('Honduran', 6), ('Ski Resorts', 6), ('Surf Shop', 6), ('Conveyor Belt Sushi', 6), ('Drive-In Theater', 6), ('Mobile Home Repair', 6), ('Japanese Curry', 6), ('Civic Center', 6), ('Aircraft Dealers', 6), ('Infectious Disease Specialists', 6), ('Public Art', 6), ('Tubing', 6), ('Kombucha', 6), ('Hindu Temples', 6), ('Feng Shui', 6), ('Aircraft Repairs', 6), ('Pathologists', 5), ('Beach Equipment Rentals', 5), ('Bike Shop', 5), ('Pub Food', 5), ('Junkyards', 5), ('Kitchen Supplies', 5), ('Public Markets', 5), ('Astrologers', 5), ('Vocal Coach', 5), ('Teacher Supplies', 5), ('Crane Services', 5), ('Trinidadian', 5), ('Rest Stops', 5), ('Drones', 5), ('Community Gardens', 5), ('Land Surveying', 5), ('Supper Clubs', 5), ('Trains', 5), ('Bus Rental', 5), ('Scandinavian', 5), ('Hepatologists', 5), ('Observatories', 5), ('Digitizing Services', 5), ('Bookbinding', 5), ('Ranches', 5), ('Interlock Systems', 5), ('Tuscan', 5), ('Animal Physical Therapy', 5), ('DIY Auto Shop', 5), ('Tickets', 4), ('Safety Equipment', 4), ('Gerontologists', 4), ('Uzbek', 4), ('Planetarium', 4), ('Sports Psychologists', 4), ('Sailing', 4), ('Unofficial Yelp Events', 4), ('Pedicabs', 4), ('Public Adjusters', 4), ('Neuropathologists', 4), ('Veterans Organizations', 4), ('Coffee & Tea Supplies', 4), ('Bike Repair', 4), ('Proctologists', 4), ('Carpet Dyeing', 4), ('Architectural Tours', 4), ('Australian', 4), ('Free Diving', 4), ('Duplication Services', 4), ('Bubble Soccer', 4), ('Fur Clothing', 4), ('Petting Zoos', 4), ('Embassy', 4), ('Sledding', 3), ('Bike Sharing', 3), ('Traditional Clothing', 3), ('Badminton', 3), ('Natural Gas Suppliers', 3), ('Municipality', 3), ('Trivia Hosts', 3), ('Snorkeling', 3), ('Apartment Agents', 3), ('Nephrologists', 3), ('Patent Law', 3), ('Playsets', 3), ('Jails & Prisons', 3), ('Animal Assisted Therapy', 3), ('3D Printing', 3), ('Indoor Landscaping', 3), ('Boat Parts & Supplies', 3), ('Kitchen Incubators', 3), ('Taxidermy', 3), ('Props', 3), ('Cheese Tasting Classes', 3), ('Sicilian', 3), ('Hybrid Car Repair', 3), ('Auto Electric Services', 3), ('Mosques', 3), ('Phlebologists', 3), ('Beach Bars', 3), ('Homeless Shelters', 3), ('Fuel Docks', 3), ('Scooter Tours', 3), ('Squash', 2), ('Undersea/Hyperbaric Medicine', 2), ('Hearing Aids', 2), ('Bike Parking', 2), ('Aviation Services', 2), ('Bangladeshi', 2), ('Pita', 2), ('Concept Shops', 2), ('Flyboarding', 2), ('Water Suppliers', 2), ('Guamanian', 2), ('Syrian', 2), ('Nudist', 2), ('Haitian', 2), ('Habilitative Services', 2), ('Duty-Free Shops', 2), ('Hotel bar', 2), ('Electricity Suppliers', 2), ('Carousels', 2), ('Luggage Storage', 2), ('Linens', 2), ('Beer Garden', 2), ('South African', 2), ('Austrian', 2), ('Outdoor Movies', 2), ('EV Charging Stations', 2), ('Surf Schools', 2), ('Kiosk', 2), ('Town Hall', 2), ('Waldorf Schools', 2), ('Backshop', 1), ('Calabrian', 1), ('Halfway Houses', 1), ('Dialysis Clinics', 1), ('Calligraphy', 1), ('Ceremonial Clothing', 1), ('Drive-Thru Bars', 1), ('Scottish', 1), ('Studio Taping', 1), ('Registry Office', 1), ('Oaxacan', 1), ('Court Reporters', 1), ('Nicaraguan', 1), ('Makerspaces', 1), ('Rodeo', 1), ('Homeopathic', 1), ('Geneticists', 1), ('Rotisserie Chicken', 1), ('Market Stalls', 1), ('Fencing Clubs', 1), ('General Festivals', 1), ('Christmas Markets', 1), ('Street Art', 1), ('Toxicologists', 1), ('Metro Stations', 1), ('Osteopaths', 1), ('Skiing', 1), ('Sri Lankan', 1), ('Czech', 1), ('Slovakian', 1), ('Churros', 1), ('DUI Schools', 1), ('Island Pub', 1), ('Hang Gliding', 1), ('Soba', 1), ('Entertainment Law', 1), ('Medical Foot Care', 1), ('Iberian', 1), ('Otologists', 1), ('Eastern European', 1), ('Bulgarian', 1), ('Hong Kong Style Cafe', 1), ('Customs Brokers', 1)]\n",
            "1273\n"
          ],
          "name": "stdout"
        }
      ]
    },
    {
      "cell_type": "code",
      "metadata": {
        "id": "9DS5NWHbq4bg",
        "colab_type": "code",
        "outputId": "c346fe69-d3c0-4cdf-9325-4cf53da8b8c9",
        "colab": {
          "base_uri": "https://localhost:8080/",
          "height": 300
        }
      },
      "source": [
        "category_frequency = pd.DataFrame(category_sort, columns =['category', 'count'])\n",
        "sns.barplot(x=\"count\", y=\"category\",  data=category_frequency.head(20)) \n"
      ],
      "execution_count": 0,
      "outputs": [
        {
          "output_type": "execute_result",
          "data": {
            "text/plain": [
              "<matplotlib.axes._subplots.AxesSubplot at 0x7f9d2abf8b00>"
            ]
          },
          "metadata": {
            "tags": []
          },
          "execution_count": 26
        },
        {
          "output_type": "display_data",
          "data": {
            "image/png": "[encoded data removed]",
            "text/plain": [
              "<Figure size 432x288 with 1 Axes>"
            ]
          },
          "metadata": {
            "tags": []
          }
        }
      ]
    },
    {
      "cell_type": "markdown",
      "metadata": {
        "id": "bqNvigGu0m06",
        "colab_type": "text"
      },
      "source": [
        "We decided to focus on Bars and Nightlife."
      ]
    },
    {
      "cell_type": "code",
      "metadata": {
        "id": "ar3A6dfUrad2",
        "colab_type": "code",
        "colab": {}
      },
      "source": [
        "bar_list = list(filter(lambda x: \"Bars\" in x, category_set))\n",
        "bar_dict = {k: category_count[k] for k in bar_list}"
      ],
      "execution_count": 0,
      "outputs": []
    },
    {
      "cell_type": "code",
      "metadata": {
        "id": "5BMewQU4s5Ms",
        "colab_type": "code",
        "outputId": "11255452-8b72-4cbf-d770-c1389a4ed874",
        "colab": {
          "base_uri": "https://localhost:8080/",
          "height": 323
        }
      },
      "source": [
        "bar_list"
      ],
      "execution_count": 0,
      "outputs": [
        {
          "output_type": "execute_result",
          "data": {
            "text/plain": [
              "['Sushi Bars',\n",
              " 'Dive Bars',\n",
              " 'Drive-Thru Bars',\n",
              " 'Cigar Bars',\n",
              " 'Gay Bars',\n",
              " 'Whiskey Bars',\n",
              " 'Bars',\n",
              " 'Hookah Bars',\n",
              " 'Tiki Bars',\n",
              " 'Piano Bars',\n",
              " 'Juice Bars & Smoothies',\n",
              " 'Beach Bars',\n",
              " 'Tapas Bars',\n",
              " 'Oxygen Bars',\n",
              " 'Champagne Bars',\n",
              " 'Wine Bars',\n",
              " 'Cocktail Bars',\n",
              " 'Sports Bars']"
            ]
          },
          "metadata": {
            "tags": []
          },
          "execution_count": 28
        }
      ]
    },
    {
      "cell_type": "code",
      "metadata": {
        "id": "FBjYGiRQur2Z",
        "colab_type": "code",
        "outputId": "bd1a3d09-dd51-4afd-f9ba-6a3d8fc20c52",
        "colab": {
          "base_uri": "https://localhost:8080/",
          "height": 323
        }
      },
      "source": [
        "bar_dict"
      ],
      "execution_count": 0,
      "outputs": [
        {
          "output_type": "execute_result",
          "data": {
            "text/plain": [
              "{'Bars': 7729,\n",
              " 'Beach Bars': 3,\n",
              " 'Champagne Bars': 16,\n",
              " 'Cigar Bars': 22,\n",
              " 'Cocktail Bars': 837,\n",
              " 'Dive Bars': 500,\n",
              " 'Drive-Thru Bars': 1,\n",
              " 'Gay Bars': 134,\n",
              " 'Hookah Bars': 221,\n",
              " 'Juice Bars & Smoothies': 1203,\n",
              " 'Oxygen Bars': 17,\n",
              " 'Piano Bars': 23,\n",
              " 'Sports Bars': 1708,\n",
              " 'Sushi Bars': 1126,\n",
              " 'Tapas Bars': 175,\n",
              " 'Tiki Bars': 12,\n",
              " 'Whiskey Bars': 38,\n",
              " 'Wine Bars': 813}"
            ]
          },
          "metadata": {
            "tags": []
          },
          "execution_count": 29
        }
      ]
    },
    {
      "cell_type": "code",
      "metadata": {
        "id": "K2dCKIV5zbqx",
        "colab_type": "code",
        "outputId": "9a37ec3e-677d-4758-ec72-02a648ae227f",
        "colab": {
          "base_uri": "https://localhost:8080/",
          "height": 34
        }
      },
      "source": [
        "list(filter(lambda x: \"Nightlife\" in x, category_set))"
      ],
      "execution_count": 0,
      "outputs": [
        {
          "output_type": "execute_result",
          "data": {
            "text/plain": [
              "['Nightlife']"
            ]
          },
          "metadata": {
            "tags": []
          },
          "execution_count": 30
        }
      ]
    },
    {
      "cell_type": "markdown",
      "metadata": {
        "id": "6A0h-NAY6ZUM",
        "colab_type": "text"
      },
      "source": [
        "Not sure if we noly need to check business that is open."
      ]
    },
    {
      "cell_type": "code",
      "metadata": {
        "id": "qOVBGQJQ5Qp6",
        "colab_type": "code",
        "colab": {}
      },
      "source": [
        "print(business[business['is_open'] == 1]['review_count'].sum())\n",
        "print(business[business['is_open'] == 0]['review_count'].sum())"
      ],
      "execution_count": 0,
      "outputs": []
    },
    {
      "cell_type": "code",
      "metadata": {
        "id": "3CwJ2Xn459-h",
        "colab_type": "code",
        "outputId": "433f6de9-4fcf-4a98-ff74-f73b61524291",
        "colab": {
          "base_uri": "https://localhost:8080/",
          "height": 34
        }
      },
      "source": [
        "ast.literal_eval(business.loc[0,'attributes'])"
      ],
      "execution_count": 0,
      "outputs": [
        {
          "output_type": "execute_result",
          "data": {
            "text/plain": [
              "{'GoodForKids': 'False'}"
            ]
          },
          "metadata": {
            "tags": []
          },
          "execution_count": 32
        }
      ]
    },
    {
      "cell_type": "code",
      "metadata": {
        "id": "oUlNmWQa8lLJ",
        "colab_type": "code",
        "colab": {}
      },
      "source": [
        "#business.to_csv('business_clean1.csv')"
      ],
      "execution_count": 0,
      "outputs": []
    }
  ]
}