{
 "cells": [
  {
   "cell_type": "markdown",
   "metadata": {},
   "source": [
    "# STAT 628 Module 3 report"
   ]
  },
  {
   "cell_type": "markdown",
   "metadata": {},
   "source": [
    "#### Xiaoxiang Hua\n",
    "\n",
    "#### Yijie Liu\n",
    "\n",
    "#### Yi-hsuan Tsai\n",
    "\n",
    "#### Jiangtong Wang"
   ]
  },
  {
   "cell_type": "markdown",
   "metadata": {},
   "source": [
    "## Introduction"
   ]
  },
  {
   "cell_type": "markdown",
   "metadata": {},
   "source": [
    "In our Yelp Data Analysis project, we focus on bars in the categories of business data and try to provide useful suggestions to bars' owners to improve their ratings on Yelp."
   ]
  },
  {
   "cell_type": "markdown",
   "metadata": {},
   "source": [
    "## Data Processing"
   ]
  },
  {
   "cell_type": "markdown",
   "metadata": {},
   "source": [
    "We started with the business data. Since we like to study bars, we removed the missing values and picked bars and nightlife in the categories. In the meanwhile, we want to focus on cities in the U.S. so removed cities in Canada and Europe. \n",
    "\n",
    "After cleaning the business data, we combined it with the review data and reduced the 6.6 million reviews to around 1 million.\n",
    "\n",
    "Later on, we built some rating distribution plots for words in order to decide what topics and words we want to further research on."
   ]
  },
  {
   "cell_type": "markdown",
   "metadata": {},
   "source": [
    "## Information Extracting"
   ]
  },
  {
   "cell_type": "markdown",
   "metadata": {},
   "source": [
    "We fisrt define what kind of features we need to use for our analysis. We refine information based on 4 dimensions: foods, drinks, services and stomsphere. For each dimension, we choose a list of words(both common and proper nouns) that frequently exists in the bar industry. Here we extract 57 words in total. \n",
    "\n",
    "Then we seprate review into sentences, and seperate sentences based on transitional conjuctions for the convenience of analysis below. We get 5.8 million seperated sentences in total.\n",
    "\n",
    "We select the seperated sentences that mention 57 words above. After that, we make sentiment analysis on these filtered review. We define whether each seperated sentence has a positive sentiment or a negative sentiment. \n",
    "\n",
    "Finally, for all analyzed merchants, we counts the number of reviews mention certain words, the number of reviews mention certain words with either positive or negative sentiment seperately."
   ]
  },
  {
   "cell_type": "markdown",
   "metadata": {},
   "source": [
    "## Significance Test"
   ]
  },
  {
   "cell_type": "markdown",
   "metadata": {},
   "source": [
    "  Since we have extraced information in term of \"adj + noun\", then we checked the  significance of the their influence on  review stars by using T-test, chi-square test  and fisher's exact test grouped by cities.  By doing these tests, we can get what features that customers cares about most, and what pros and cons that can improve or decrease stars for a bar (business) most.<br>\n",
    "  For each city and each word in city list, we did four tests, details are as follow:<br> \n",
    "  \n",
    "*T-test:* <br>\n",
    " We use Welch's T-test, there are two groups. The first group is a list of review stars, and in these riviews the certain word is positively mentioned. Similarly, the second group is also a list contains review stars where the certain word is negatively mentioned. <br>\n",
    " The null hypothesis is there is no significant differences in reviews stars no matter the certain word is positively or negatively mentioned in reiviews. Then we do the test and get p-values.<br>\n",
    " \n",
    "*chi-square test:*<br>\n",
    " We use chi-square test to test for the independence of the sentiment of a certain word and the review stars. The contingency table is shown below. \n",
    " ![](Pic/chisq_table.png)\n",
    "\"A\" is the number of the certain word that is positively mentioned and its review stars is 5. \"B\" is the number of the certain word that is negatively mentioned and its review stars is 5. \"C\" is the number of the certain word that is positively mentioned and its review stars is below 3.\"D\" is the number of the certain word that is negatively mentioned and its review stars is below 3.<br>\n",
    " The null hypothesis is that the sentiment of certain word is independent with review stars. Then we do the test and get p-values.<br>\n",
    "\n",
    "*fisher's exact test*<br>\n",
    "The two tests above compare positive sentiment with negative sentiment, the two tests follow compares positive (negative) sentiment with none sentiment. That is the none sentiment is the certain is not mentioned. The purpose of these two tests is to test how significant it is that a word is positively (negatively) mentioned in review can improve (decrease) reviews stars compared to reviews that the certain word is not mentioned. Two tests we use are fisher's exact test.<br>\n",
    " ![](Pic/fisher_table.png)\n",
    "\"A\" is the number of the certain word that is positively (negatively) mentioned and its review stars is above 3. \"B\" is the number of the certain word that is not mentioned and its review stars is above 3. \"C\" is the number of the certain word that is positively (negatively) mentioned and its review stars is below or equal to 3.\"D\" is the number of the certain word that is not mentioned and its review stars is below or equal to 3.<br>\n",
    " The null hypothesis is that the sentiment of certain word is independent with review stars. Then we do the test and get p-values.<br>"
   ]
  },
  {
   "cell_type": "markdown",
   "metadata": {},
   "source": [
    "## Recommenndation System"
   ]
  },
  {
   "cell_type": "markdown",
   "metadata": {},
   "source": [
    "## Conclusion "
   ]
  },
  {
   "cell_type": "markdown",
   "metadata": {},
   "source": [
    "## Contribution "
   ]
  }
 ],
 "metadata": {
  "celltoolbar": "Raw Cell Format",
  "kernelspec": {
   "display_name": "Python 3",
   "language": "python",
   "name": "python3"
  },
  "language_info": {
   "codemirror_mode": {
    "name": "ipython",
    "version": 3
   },
   "file_extension": ".py",
   "mimetype": "text/x-python",
   "name": "python",
   "nbconvert_exporter": "python",
   "pygments_lexer": "ipython3",
   "version": "3.7.3"
  }
 },
 "nbformat": 4,
 "nbformat_minor": 2
}
