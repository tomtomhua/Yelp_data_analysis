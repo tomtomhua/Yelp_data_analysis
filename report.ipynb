{
 "cells": [
  {
   "cell_type": "markdown",
   "metadata": {},
   "source": [
    "# STAT 628 Module 3 report"
   ]
  },
  {
   "cell_type": "markdown",
   "metadata": {},
   "source": [
    "#### Xiaoxiang Hua\n",
    "#### Yijie Liu\n",
    "#### Yi-hsuan Tsai\n",
    "#### Jiantong Wang"
   ]
  },
  {
   "cell_type": "markdown",
   "metadata": {},
   "source": [
    "## Introduction"
   ]
  },
  {
   "cell_type": "markdown",
   "metadata": {},
   "source": [
    "In our Yelp Data Analysis project, we focus on bars in the categories of business data and use natural language processing methods to extrat information in customer reviews to provide useful suggestions to bars' owners to improve their ratings on Yelp and suggestions to customers for their decision."
   ]
  },
  {
   "cell_type": "markdown",
   "metadata": {},
   "source": [
    "## Data Processing"
   ]
  },
  {
   "cell_type": "markdown",
   "metadata": {},
   "source": [
    "We started with the business data. Since we like to study bars, we removed the missing values and picked bars and nightlife in the categories. In the meanwhile, we want to focus on cities in the U.S. so removed cities in Canada and Europe. \n",
    "\n",
    "After cleaning the business data, we combined it with the review data and reduced the 6.6 million reviews to around 1 million.\n",
    "\n",
    "Later on, we built some rating distribution plots for words in order to decide what topics and words we want to further research on."
   ]
  },
  {
   "cell_type": "markdown",
   "metadata": {},
   "source": [
    "## Information Extracting"
   ]
  },
  {
   "cell_type": "markdown",
   "metadata": {},
   "source": [
    "We fisrt define what kind of features we need to use for our analysis. We refine information based on 4 dimensions: foods, drinks, services and stomsphere. For each dimension, we choose a list of words(both common and proper nouns) that frequently exists in the bar industry. Here we extract 57 words in total. \n",
    "\n",
    "Then we seprate review into sentences, and seperate sentences based on transitional conjuctions for the convenience of analysis below. We get 5.8 million seperated sentences in total.\n",
    "\n",
    "We select the seperated sentences that mention 57 words above. After that, we make sentiment analysis on these filtered review. We define whether each seperated sentence has a positive sentiment or a negative sentiment. \n",
    "\n",
    "Finally, for all analyzed merchants, we counts the number of reviews mention certain words, the number of reviews mention certain words with either positive or negative sentiment seperately."
   ]
  },
  {
   "cell_type": "markdown",
   "metadata": {},
   "source": [
    "## Significance Test"
   ]
  },
  {
   "cell_type": "markdown",
   "metadata": {},
   "source": [
    "  Since we have extraced information in term of \"adj + noun\", then we checked the  significance of the their influence on  review stars by using T-test, chi-square test  and fisher's exact test grouped by cities.  By doing these tests, we can get what features that customers cares about most, and what pros and cons that can improve or decrease stars for a bar (business) most.<br>\n",
    "  For each city and each word in city list, we did four tests, details are as follow:<br> \n",
    "  \n",
    "*T-test:* <br>\n",
    " We use Welch's T-test, there are two groups. The first group is a list of review stars, and in these riviews the certain word is positively mentioned. Similarly, the second group is also a list contains review stars where the certain word is negatively mentioned. <br>\n",
    " The null hypothesis is there is no significant differences in reviews stars no matter the certain word is positively or negatively mentioned in reiviews. Then we do the test and get p-values.<br>\n",
    " \n",
    "*chi-square test:*<br>\n",
    " We use chi-square test to test for the independence of the sentiment of a certain word and the review stars. The contingency table is shown below. \n",
    " ![](Pic/chisq_table.png)\n",
    "\"A\" is the number of the certain word that is positively mentioned and its review stars is 5. \"B\" is the number of the certain word that is negatively mentioned and its review stars is 5. \"C\" is the number of the certain word that is positively mentioned and its review stars is below 3.\"D\" is the number of the certain word that is negatively mentioned and its review stars is below 3.<br>\n",
    " The null hypothesis is that the sentiment of certain word is independent with review stars. Then we do the test and get p-values.<br>\n",
    "\n",
    "*fisher's exact test*<br>\n",
    "The two tests above compare positive sentiment with negative sentiment, the two tests follow compares positive (negative) sentiment with none sentiment. That is the none sentiment is the certain is not mentioned. The purpose of these two tests is to test how significant it is that a word is positively (negatively) mentioned in review can improve (decrease) reviews stars compared to reviews that the certain word is not mentioned. Two tests we use are fisher's exact test.<br>\n",
    " ![](Pic/fisher_table.png)\n",
    "\"A\" is the number of the certain word that is positively (negatively) mentioned and its review stars is above 3. \"B\" is the number of the certain word that is not mentioned and its review stars is above 3. \"C\" is the number of the certain word that is positively (negatively) mentioned and its review stars is below or equal to 3.\"D\" is the number of the certain word that is not mentioned and its review stars is below or equal to 3.<br>\n",
    " The null hypothesis is that the sentiment of certain word is independent with review stars. Then we do the test and get p-values.<br>"
   ]
  },
  {
   "cell_type": "markdown",
   "metadata": {},
   "source": [
    "## Recommendation System\n",
    "Based on our test results of each city, we made a list of significant key words. The list contains four categories: foods, drinks, service and atmosphere. For some business, there are very limited number of reviews, so we use 30 as a threshold. For business with more than 30 reviews, if the positive mentions make up to more than 75% of mentions with attitude for a certain key word, then we note it as business with a positive key words, vice versa. For business with reviews fewer than 30, if the positive mentions make up to more than 50% mentions with attitude for a certain key word, then wwe note it as business with a positive key words, vice versa.\n",
    "\n",
    "The recommendation system is city-specific, for the test results are not consistent among different cities.\n",
    "\n",
    "#### For customers\n",
    "1. Our recommendation system will tell customers what food or drink is mentioned with positive attitude.\n",
    "2. Our recommendation system will warn customers from ordering food or drink with negative reviews.\n",
    "3. For service part, our recommendation systems will let customers know if there are good or bad waiter/waitress, Wi-Fi, whether there is enough parking lots or not, whether the restroom is nice, if these key words are mentioned in reviews.\n",
    "4. For atmosphere part, our recommendation systems will let customers know if there are good or bad music, band, environment, atmosphere, if these key words are mentioned in reviews.\n",
    "\n",
    "#### For business\n",
    "1. Our recommendation systems will let business know whehter there is some positive or negative impression for food from reviews, and from what aspects the business can improve it.\n",
    "2. Our recommendation systems will let business know whehter there is some positive or negative impression for drinks from reviews, and from what aspects the business can improve it.\n",
    "3. Our recommendation systems will let business know whether customers are satisfactory about their service, and from what aspect can make it better, like Wi-Fi, parking lot, restroom.\n",
    "4. Our recommendation systems will let business know whether customers like the atmosphere here, and from what aspect can make it better, like music, light."
   ]
  },
  {
   "cell_type": "markdown",
   "metadata": {},
   "source": [
    "## Conclusion \n",
    "\n",
    "We found there are some difference among cities in whether they care about the positive mention or negative mention for key words.\n",
    "\n",
    "#### Positive keywords\n",
    "\n",
    "1. For the most of the key words, if they are positively mentioned, then the probability of giving a review with 5 star will significantly increase, for all the cities.\n",
    "2. For Madison, a positive mention of sauce, price, light, environment, and atmosphere can't significantly increase the probability of giving a 5 star review.\n",
    "3. For Pittsburgh, a positive mention of sandwich, spark, negroni, brandy and booking can't significantly increase the probability of giving a 5 star review.\n",
    "4. For Chalotte, a positive mention of negroni, sandwich, cheese, chicken daiquiri,manhattan and wine can't significantly increase the probablity of giving a 5 stra review.\n",
    "5. For Phoenix, a positive mention of sandwich, brandy and wine can't significantly increase the probablity of giving a 5 stra review.\n",
    "\n",
    "\n",
    "#### Negative keywords\n",
    "1. For all the cities, if there are some key words of servie negatively mentioned, then the probability of giving of review with lower than 2 stars will significantly increase.\n",
    "2. For Madison, a negative mention of vodka will significantly increase the probability of giving a review with lower than 2 stars, which is not significant in other cities. A negative mention of burger, monzarella stick, pizza, fried, dip, restroom and parking can't significantly increasing the probability of give a review with lower than 2 stars, which is significant in other cities.\n",
    "3. For Pittsburgh, a negative mention of nugget, peanut and cocktail will significantly increase the probability of giving a review with lower than 2 stars, which is not significant in other cities. A negative mention of manner can't significantly increasing the probability of give a review with lower than 2 stars, which is significant in other cities.\n",
    "4. For Charlotte, a negative mention of popcorn, rum and booking will significantly increase the probability of giving a review with lower than 2 stars, which is not significant in other cities. A negative mention of wine can't significantly increasing the probability of give a review with lower than 2 stars, which is significant in other cities.\n",
    "5. For Phoenix, a negative mention of quesadillas, bacon, silder, oyster, spark, music, light and onion rings will significantly increase the probability of giving a review with lower than 2 stars, which is not significant in other cities.\n"
   ]
  },
  {
   "cell_type": "markdown",
   "metadata": {},
   "source": [
    "## Pros and Cons \n",
    "\n",
    "#### Pros:\n",
    "1. Our model is concise and robust since we have four tests on each word's significance.\n",
    "2. Our analysis not only compare positive sentiment with negative sentiment, but we also add no sentiment into comparation.\n",
    "3. Our project not only analysis data business-wise but also city-wise.\n",
    "4. The shinny app is very user friendly and beautiful. \n",
    "\n",
    "#### Cons:\n",
    "1. Our word list could be enlarged, then we can extract more information.\n",
    "2. The adjective list of positive words and negative words can also be enlarged, since there might be some positive sentiments and negative sentiments that we have missed.\n",
    "3. Our model can't predict reviews stars based on reviews.\n",
    "4. Due to the limitation of time, we only analysis four cities, and we could add more cities in our project.\n"
   ]
  },
  {
   "cell_type": "markdown",
   "metadata": {},
   "source": [
    "## Contribution \n",
    "\n",
    "Yijie Liu: Complete the Tf-idf part of initail analysis, and contribute to merging reviews into businesses and significance test. For report, he contributes the part of significant test. And he also contributes to the slides. <br>"
   ]
  }
 ],
 "metadata": {
  "celltoolbar": "Raw Cell Format",
  "kernelspec": {
   "display_name": "Python 3",
   "language": "python",
   "name": "python3"
  },
  "language_info": {
   "codemirror_mode": {
    "name": "ipython",
    "version": 3
   },
   "file_extension": ".py",
   "mimetype": "text/x-python",
   "name": "python",
   "nbconvert_exporter": "python",
   "pygments_lexer": "ipython3",
   "version": "3.7.3"
  }
 },
 "nbformat": 4,
 "nbformat_minor": 2
}
